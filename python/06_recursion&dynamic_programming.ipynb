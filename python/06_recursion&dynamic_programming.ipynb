{
 "cells": [
  {
   "cell_type": "code",
   "execution_count": 2,
   "metadata": {},
   "outputs": [],
   "source": [
    "import pandas as pd \n",
    "import numpy as np \n"
   ]
  },
  {
   "cell_type": "markdown",
   "metadata": {},
   "source": [
    "# House Robber\n",
    "You are a professional robber planning to rob houses along a street. Each house has a certain amount of money stashed, the only constraint stopping you from robbing each of them is that adjacent houses have security system connected and it will automatically contact the police if two adjacent houses were broken into on the same night.\n",
    "\n",
    "Given a list of non-negative integers representing the amount of money of each house, determine the maximum amount of money you can rob tonight without alerting the police.\n",
    "\n",
    "-https://leetcode.com/problems/house-robber/ "
   ]
  },
  {
   "cell_type": "code",
   "execution_count": 3,
   "metadata": {},
   "outputs": [
    {
     "data": {
      "text/plain": [
       "4"
      ]
     },
     "execution_count": 3,
     "metadata": {},
     "output_type": "execute_result"
    }
   ],
   "source": [
    "\"\"\"solution 2, dp\n",
    "1. first we construct a dp table, each element in the table represents the maximum sum for robbers at each step\n",
    "2. for the ith element, dp[i], you have two choices, either you have nums[i] + dp[i-2], or you do dp[i-1], \n",
    "according to the adjacent rule\"\"\"\n",
    "class Solution(object):\n",
    "    def rob(self, nums):\n",
    "        if not nums: \n",
    "            return 0\n",
    "        if len(nums)==1 :\n",
    "            return nums[0]\n",
    "        dp = [0]*len(nums)\n",
    "        dp[0] = nums[0]\n",
    "        dp[1] = max(nums[0],nums[1])\n",
    "        for i in range(2, len(nums)):\n",
    "            dp[i] = max (dp[i-2] + nums[i] , dp[i-1])\n",
    "        return dp[-1 ]\n"
   ]
  },
  {
   "cell_type": "code",
   "execution_count": 2,
   "metadata": {},
   "outputs": [
    {
     "name": "stdout",
     "output_type": "stream",
     "text": [
      "0 0 1 1\n",
      "0 1 2 2\n",
      "1 2 4 3\n",
      "2 4 4 1\n"
     ]
    },
    {
     "data": {
      "text/plain": [
       "4"
      ]
     },
     "execution_count": 2,
     "metadata": {},
     "output_type": "execute_result"
    }
   ],
   "source": [
    "\"\"\"solution 1, use two variables to compute maximum respectively\"\"\"\n",
    "nums = [1,2,3,1]\n",
    "prev = curr = 0 \n",
    "for num in nums: \n",
    "    temp = prev\n",
    "    prev = curr\n",
    "    curr = max(num + temp, prev)\n",
    "    print(temp, prev, curr, num)\n",
    "curr"
   ]
  },
  {
   "cell_type": "markdown",
   "metadata": {},
   "source": [
    "#  Fibonacci Number \n",
    "The Fibonacci numbers, commonly denoted F(n) form a sequence, called the Fibonacci sequence, such that each number is the sum of the two preceding ones, starting from 0 and 1.\n",
    "- \n",
    "https://leetcode.com/problems/fibonacci-number/"
   ]
  },
  {
   "cell_type": "code",
   "execution_count": 4,
   "metadata": {},
   "outputs": [],
   "source": [
    "\"\"\"solution 1: pure recursion solution\"\"\"\n",
    "class Solution(object):\n",
    "    def fib(self, N):\n",
    "        if N ==0:\n",
    "            return 0\n",
    "        if N ==1 :\n",
    "            return 1\n",
    "        else:\n",
    "            return self.fib(N-1) + self.fib(N-2)"
   ]
  },
  {
   "cell_type": "code",
   "execution_count": 6,
   "metadata": {},
   "outputs": [],
   "source": [
    "\"\"\"solution 2: recursion with memoization, \n",
    "pure recursion is very inefficient, everytime to compute fib(n), we have to compute all results before n in exchange, \n",
    "we can just store the result of all fib(n), to avoid excess run time\"\"\"\n",
    "def fib(N, memo = {}):\n",
    "    if N == 0:\n",
    "        return 0 \n",
    "    if N ==1:\n",
    "        return 1 \n",
    "    else: \n",
    "        memo[n] = fib(n-1) + fib(n-2)\n",
    "    return memo[n]"
   ]
  },
  {
   "cell_type": "code",
   "execution_count": 36,
   "metadata": {},
   "outputs": [],
   "source": [
    "\"\"\"classic DP approach\"\"\"\n",
    "def fib(n): \n",
    "    if n ==0:\n",
    "        return 0 \n",
    "    if n==1 or n==2:\n",
    "        return 1\n",
    "    dp = [0] *(n+1)\n",
    "    dp[0], dp[1], dp[2] = 0,1,1\n",
    "\n",
    "    for i in range(3, n+1):\n",
    "        dp[i] = dp[i-1] + dp[i-2]\n",
    "    return dp[n]"
   ]
  },
  {
   "cell_type": "code",
   "execution_count": 38,
   "metadata": {},
   "outputs": [],
   "source": [
    "\"\"\"recursive dp swap solution\"\"\" \n",
    "def fib(n): \n",
    "    a,b = 0,1 \n",
    "    for i in range(n):\n",
    "        a,b = b, a+b\n",
    "    return a"
   ]
  },
  {
   "cell_type": "code",
   "execution_count": 31,
   "metadata": {},
   "outputs": [
    {
     "data": {
      "text/plain": [
       "2"
      ]
     },
     "execution_count": 31,
     "metadata": {},
     "output_type": "execute_result"
    }
   ],
   "source": [
    "fib(3)"
   ]
  },
  {
   "cell_type": "markdown",
   "metadata": {},
   "source": [
    "# Climbing Stairs\n",
    "https://leetcode.com/problems/climbing-stairs/\n",
    "- leetcode 70\n",
    "- everytime, you can either climb 1 or 2 steps! , so to get to the last n steps, either you do n-1 steps + 1 step, \n",
    "or you do n -2 steps + 2 steps"
   ]
  },
  {
   "cell_type": "code",
   "execution_count": 58,
   "metadata": {},
   "outputs": [],
   "source": [
    "\n",
    "def climbstairs( n) : \n",
    "    if n <= 0:\n",
    "        return 0 \n",
    "    if n ==1 or n ==2:\n",
    "        return n\n",
    "    dp = [0] *(n+1)\n",
    "    dp[1], dp[2] = 1,2 \n",
    "    for i in range(3, n+1) : \n",
    "        dp[i] = dp[i-1] + dp[i-2]\n",
    "        \n",
    "    return dp[n]\n",
    "    \n"
   ]
  },
  {
   "cell_type": "code",
   "execution_count": 57,
   "metadata": {},
   "outputs": [
    {
     "name": "stdout",
     "output_type": "stream",
     "text": [
      "3\n",
      "4\n"
     ]
    },
    {
     "data": {
      "text/plain": [
       "5"
      ]
     },
     "execution_count": 57,
     "metadata": {},
     "output_type": "execute_result"
    }
   ],
   "source": [
    " climbstairs( 4)"
   ]
  },
  {
   "cell_type": "code",
   "execution_count": 66,
   "metadata": {},
   "outputs": [
    {
     "data": {
      "text/plain": [
       "467473.25"
      ]
     },
     "execution_count": 66,
     "metadata": {},
     "output_type": "execute_result"
    }
   ],
   "source": [
    "9349465* 0.05"
   ]
  },
  {
   "cell_type": "code",
   "execution_count": null,
   "metadata": {},
   "outputs": [],
   "source": []
  }
 ],
 "metadata": {
  "anaconda-cloud": {},
  "kernelspec": {
   "display_name": "Python [anaconda]",
   "language": "python",
   "name": "Python [anaconda]"
  },
  "language_info": {
   "codemirror_mode": {
    "name": "ipython",
    "version": 3
   },
   "file_extension": ".py",
   "mimetype": "text/x-python",
   "name": "python",
   "nbconvert_exporter": "python",
   "pygments_lexer": "ipython3",
   "version": "3.5.4"
  }
 },
 "nbformat": 4,
 "nbformat_minor": 2
}
