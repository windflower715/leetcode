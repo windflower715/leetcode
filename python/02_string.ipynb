{
 "cells": [
  {
   "cell_type": "markdown",
   "metadata": {},
   "source": [
    "# 1. Valid Parentheses\n",
    "Given a string s containing just the characters '(', ')', '{', '}', '[' and ']', determine if the input string is valid.\n",
    "\n",
    "An input string is valid if:\n",
    "\n",
    "Open brackets must be closed by the same type of brackets.\n",
    "Open brackets must be closed in the correct order.\n",
    "https://leetcode.com/problems/valid-parentheses/"
   ]
  },
  {
   "cell_type": "code",
   "execution_count": null,
   "metadata": {},
   "outputs": [],
   "source": []
  },
  {
   "cell_type": "code",
   "execution_count": 56,
   "metadata": {},
   "outputs": [
    {
     "data": {
      "text/plain": [
       "False"
      ]
     },
     "execution_count": 56,
     "metadata": {},
     "output_type": "execute_result"
    }
   ],
   "source": [
    "\"\"\"iterate through string, keep track of the length of the string from previous iteration\"\"\"\n",
    "s =\"(){}}{\"\n",
    "dic = {'{':'}','[':']','(':')'}\n",
    "def isValid(s): \n",
    "    count = len(s)\n",
    "    while len(s)!= 0: \n",
    "        if count == len(s.replace('[]','').replace('()','').replace('{}','')): \n",
    "            return False\n",
    "        else:\n",
    "            s = s.replace('[]','').replace('()','').replace('{}','')\n",
    "            count = len(s)\n",
    "    return True\n",
    "    \n",
    "isValid(s)        "
   ]
  },
  {
   "cell_type": "code",
   "execution_count": 58,
   "metadata": {},
   "outputs": [
    {
     "data": {
      "text/plain": [
       "False"
      ]
     },
     "execution_count": 58,
     "metadata": {},
     "output_type": "execute_result"
    }
   ],
   "source": [
    "\"\"\"another method\"\"\"\n",
    "\"\"\"return not s is equivalent to the below code\"\"\"\n",
    "def isvalid(s):\n",
    "    while '()' in s or '[]' in s or '{}' in s:\n",
    "        s = s.replace('()','').replace('[]','').replace('{}','')\n",
    "    if len(s) == 0:\n",
    "        return True\n",
    "    return False \n",
    "isvalid(s)"
   ]
  },
  {
   "cell_type": "code",
   "execution_count": 70,
   "metadata": {},
   "outputs": [
    {
     "data": {
      "text/plain": [
       "True"
      ]
     },
     "execution_count": 70,
     "metadata": {},
     "output_type": "execute_result"
    }
   ],
   "source": [
    "\"\"\"python stack\n",
    "important observation: when you encounter the first closing parenthesis, it's matched with the opening\n",
    "bracket on the left\n",
    "so we can iterate through the string, when we encounter opening brackets we push it on the stack, \n",
    "when we encounter the first closing bracket, we pop the open bracket from the stack\"\"\"\n",
    "dict = {\"]\":\"[\", \"}\":\"{\", \")\":\"(\"}\n",
    "s = \"()[]\"\n",
    "def isvalid(s):\n",
    "    stack = []\n",
    "    for i in s: \n",
    "        if i in dict.values(): \n",
    "            stack.append(i)\n",
    "        elif i in dict.keys(): \n",
    "            if len (stack) ==0: \n",
    "                return False\n",
    "            \"\"\"take the last element from the parentheses\"\"\"\n",
    "            pairing = stack.pop(-1)\n",
    "            if dict[i] != pairing:\n",
    "                return False\n",
    "    return len(stack) == 0\n",
    "isvalid(s)"
   ]
  },
  {
   "cell_type": "markdown",
   "metadata": {},
   "source": [
    "# 2. Longest Common Prefix\n",
    "Write a function to find the longest common prefix string amongst an array of strings.\n",
    "\n",
    "If there is no common prefix, return an empty string \"\".\n",
    "https://leetcode.com/problems/longest-common-prefix/"
   ]
  },
  {
   "cell_type": "code",
   "execution_count": 84,
   "metadata": {},
   "outputs": [],
   "source": [
    "strs = [\"flower\",\"flow\",\"flight\"]\n",
    "def longestCommonPrefix(self, strs):\n",
    "    if not strs:\n",
    "        return ''\n",
    "    rst = ''\n",
    "    for i in range(0, min([len(x) for x in strs])+1): \n",
    "        if len( set([x[:i] for x in strs])) ==1 : \n",
    "            \"\"\"this means it's a common prefix\"\"\"\n",
    "            tmp = list(set([x[:i] for x in strs]))[0]\n",
    "            if len(tmp) >= len(rst):\n",
    "                rst = tmp\n",
    "    return rst"
   ]
  },
  {
   "cell_type": "code",
   "execution_count": 89,
   "metadata": {},
   "outputs": [],
   "source": [
    "\"\"\"more elegant solution\"\"\"\n",
    "def longestCommonPrefix(strs):\n",
    "    rst = ''\n",
    "    for i in zip(*strs): \n",
    "        if len(set(i))== 1: \n",
    "            rst += i[0]\n",
    "        else:\n",
    "            return rst\n",
    "    return rst"
   ]
  },
  {
   "cell_type": "markdown",
   "metadata": {},
   "source": [
    "# Implement strSTR()\n",
    "leetcode 28 \n",
    "https://leetcode.com/problems/implement-strstr/"
   ]
  },
  {
   "cell_type": "code",
   "execution_count": 102,
   "metadata": {},
   "outputs": [
    {
     "data": {
      "text/plain": [
       "-1"
      ]
     },
     "execution_count": 102,
     "metadata": {},
     "output_type": "execute_result"
    }
   ],
   "source": [
    "haystack = 'aaaaa'\n",
    "needle = 'bba'\n",
    "def strStr(haystack, needle):\n",
    "    if not needle:\n",
    "        return 0\n",
    "    index_list = [x for x in range(len(haystack)) if haystack[x] == needle[0]]\n",
    "    for idx in index_list: \n",
    "        if haystack[idx : idx + len(needle)] == needle:\n",
    "            return idx\n",
    "    return -1\n",
    "strStr(haystack, needle)"
   ]
  },
  {
   "cell_type": "code",
   "execution_count": 103,
   "metadata": {},
   "outputs": [],
   "source": [
    "# direct iteration\n",
    "def strStr(haystack, needle): \n",
    "    for i in range( 0, len(haystack) - len(needle)+1 ): \n",
    "        if haystack[i : i +len(needle)] == needle:\n",
    "            return i \n",
    "    return -1"
   ]
  },
  {
   "cell_type": "markdown",
   "metadata": {},
   "source": [
    "# Count and Say \n",
    "difficult leetcode 38 *** xx\n",
    "https://leetcode.com/problems/count-and-say/ "
   ]
  },
  {
   "cell_type": "code",
   "execution_count": 281,
   "metadata": {},
   "outputs": [],
   "source": [
    "\"\"\"this problem is quite difficult\"\"\"\n",
    "class Solution(object):\n",
    "    def countAndSay(self, n):\n",
    "        s = '1' \n",
    "        for x in range(n-1):  \n",
    "            s = self.helper(s)\n",
    "        return s \n",
    "    \n",
    "    def helper(self, n):\n",
    "        rst = ''\n",
    "        for digit, group in itertools.groupby(str(n)):\n",
    "            rst += str(len(list(group))) + str(digit)\n",
    "        return rst "
   ]
  },
  {
   "cell_type": "markdown",
   "metadata": {},
   "source": [
    "#  Valid Palindrome II \n",
    "leetcode 680 \n",
    "https://leetcode.com/problems/valid-palindrome-ii/\n",
    "- you can also use two pointer to solve palindrome problems"
   ]
  },
  {
   "cell_type": "code",
   "execution_count": 2,
   "metadata": {},
   "outputs": [],
   "source": [
    "\"\"\"runtime exceeded\n",
    "slow solution\"\"\"\n",
    "class Solution(object):\n",
    "    def validPalindrome(self, s):\n",
    "        if s == s[::-1]:\n",
    "            return True\n",
    "        for i in range(0, len(s)): \n",
    "            sub = s[:i] + s[i+1: ]\n",
    "            if sub[::-1] == sub:\n",
    "                return True\n",
    "        return False \n",
    "        "
   ]
  },
  {
   "cell_type": "code",
   "execution_count": 17,
   "metadata": {},
   "outputs": [],
   "source": [
    "def validPalindrome( s):\n",
    "    left, right =0 , len(s)-1\n",
    "    \"iterate through both ends of the string\"\n",
    "    while left < right: \n",
    "        \"if we find a letter that doesn't match, we can either exclude it from the left or the right\"\n",
    "        if s[left] != s[right]: \n",
    "            \"exclude from the right\"\n",
    "            sub1 = s[left:right]\n",
    "            \"exclude from the left\"\n",
    "            sub2 = s[left+1:right+1]\n",
    "            \"\"\"if one of the sub1 or sub2 is palindrom, then the string is valid palindrome\"\"\"\n",
    "            return sub1== sub1[::-1 ] or sub2 == sub2[::-1]\n",
    "#             if sub1== sub1[::-1 ] or sub2 == sub2[::-1]:\n",
    "#                 return True\n",
    "#             else :\n",
    "#                 return False\n",
    "        left +=1\n",
    "        right -=1\n",
    "    return True\n",
    "        "
   ]
  },
  {
   "cell_type": "code",
   "execution_count": 18,
   "metadata": {},
   "outputs": [
    {
     "data": {
      "text/plain": [
       "True"
      ]
     },
     "execution_count": 18,
     "metadata": {},
     "output_type": "execute_result"
    }
   ],
   "source": [
    "validPalindrome( 'aba')"
   ]
  },
  {
   "cell_type": "markdown",
   "metadata": {},
   "source": [
    "# most common word\n",
    "leetcode 819\n",
    "https://leetcode.com/problems/most-common-word/"
   ]
  },
  {
   "cell_type": "code",
   "execution_count": 36,
   "metadata": {},
   "outputs": [],
   "source": [
    "paragraph = \"Bob hit a ball, the hit BALL flew far after it was hit.\"\n",
    "banned = [\"hit\"]"
   ]
  },
  {
   "cell_type": "code",
   "execution_count": 39,
   "metadata": {},
   "outputs": [
    {
     "data": {
      "text/plain": [
       "'ball'"
      ]
     },
     "execution_count": 39,
     "metadata": {},
     "output_type": "execute_result"
    }
   ],
   "source": [
    "import re\n",
    "from collections import Counter\n",
    "\n",
    "class Solution(object):\n",
    "    def mostCommonWord(self, paragraph, banned):\n",
    "        words = [x.lower() for x in re.sub(\"[^\\w]\", \" \",  paragraph).split()]\n",
    "        return [x[0] for x in sorted (Counter(words).items(), key = lambda x: x[1], reverse = True) if x[0] not in banned][0]\n"
   ]
  },
  {
   "cell_type": "markdown",
   "metadata": {},
   "source": [
    "# First unique character in a string\n"
   ]
  },
  {
   "cell_type": "code",
   "execution_count": 43,
   "metadata": {},
   "outputs": [
    {
     "data": {
      "text/plain": [
       "[4, 6, 0, 5, 3]"
      ]
     },
     "execution_count": 43,
     "metadata": {},
     "output_type": "execute_result"
    }
   ],
   "source": [
    "from collections import Counter \n",
    "class Solution:\n",
    "    def firstUniqChar(self, s: str) -> int:\n",
    "        try: \n",
    "            return s.index([x for x in Counter(s).keys() if Counter(s)[x] ==1 ][0])\n",
    "        except:\n",
    "            return -1"
   ]
  },
  {
   "cell_type": "markdown",
   "metadata": {},
   "source": [
    "# Buddy Strings\n",
    "https://leetcode.com/problems/buddy-strings/\n",
    "- consider edge case"
   ]
  },
  {
   "cell_type": "code",
   "execution_count": 15,
   "metadata": {},
   "outputs": [
    {
     "data": {
      "text/plain": [
       "False"
      ]
     },
     "execution_count": 15,
     "metadata": {},
     "output_type": "execute_result"
    }
   ],
   "source": [
    "class Solution(object):\n",
    "    def buddyStrings(self, A, B):\n",
    "        if len(A)!= len(B):\n",
    "            return False\n",
    "        c = ([x for x in range(0, len(A)) if A[x] != B[x]])\n",
    "        if len(c) ==2 and A[c[0]] == B[c[1]] and A[c[1]] == B[c[0]]:\n",
    "            return True\n",
    "        if A == B and len(A) > len(set(A)):\n",
    "            return True\n",
    "        return False\n"
   ]
  },
  {
   "cell_type": "code",
   "execution_count": 21,
   "metadata": {},
   "outputs": [
    {
     "data": {
      "text/plain": [
       "False"
      ]
     },
     "execution_count": 21,
     "metadata": {},
     "output_type": "execute_result"
    }
   ],
   "source": [
    "A = \"ab\"\n",
    "B = \"ba\"\n",
    "c = ([x for x in range(0, len(A)) if A[x] != B[x]])\n",
    "c ==2 and A[c[0]] == B[c[1]] and A[c[1]] == B[c[0]]"
   ]
  },
  {
   "cell_type": "markdown",
   "metadata": {},
   "source": [
    "# Reverse vowels of a string\n",
    "https://leetcode.com/problems/reverse-vowels-of-a-string/"
   ]
  },
  {
   "cell_type": "code",
   "execution_count": 16,
   "metadata": {},
   "outputs": [],
   "source": [
    "class Solution(object):\n",
    "    def reverseVowels(self, s):\n",
    "        s = list(s)\n",
    "        vowels = ['a','e','i','o','u','A','E','I','O','U']\n",
    "        tmp = []\n",
    "        for i in s:\n",
    "            if i in vowels:\n",
    "                tmp.append(i)\n",
    "        for i in range(0, len(s)):\n",
    "            if s[i] in vowels: \n",
    "                s[i] = tmp.pop(-1)\n",
    "        s = ''.join(s)\n",
    "        return s"
   ]
  },
  {
   "cell_type": "code",
   "execution_count": null,
   "metadata": {},
   "outputs": [],
   "source": []
  },
  {
   "cell_type": "markdown",
   "metadata": {},
   "source": [
    "# 415. add strings, kinda of medium\n",
    "https://leetcode.com/problems/add-strings/"
   ]
  },
  {
   "cell_type": "code",
   "execution_count": 45,
   "metadata": {},
   "outputs": [
    {
     "name": "stdout",
     "output_type": "stream",
     "text": [
      "4 8 0\n",
      "8 1 1\n",
      "5 0 1\n"
     ]
    },
    {
     "data": {
      "text/plain": [
       "'602'"
      ]
     },
     "execution_count": 45,
     "metadata": {},
     "output_type": "execute_result"
    }
   ],
   "source": [
    "class Solution(object):\n",
    "    def addStrings(self, num1, num2):\n",
    "        if len(num1) > len(num2): \n",
    "            num2= '0' * (len(num1) - len(num2)) + num2 \n",
    "        elif len(num1) < len(num2):\n",
    "            num1 ='0' * (len(num2) - len(num1)) +  num1         \n",
    "        rst, carry =[],  0\n",
    "        num1, num2 = num1[::-1], num2[::-1]\n",
    "        for i , j in zip(num1, num2):\n",
    "            i, j = int(i), int(j)\n",
    "            rst .append(  str( i + j + carry )) \n",
    "            if i + j + carry >= 10 :\n",
    "                carry = 1 \n",
    "            else :\n",
    "                carry =0 \n",
    "                \n",
    "        if len(rst) == 1 : \n",
    "            return rst[0]\n",
    "        else: \n",
    "            rst = rst[::-1]\n",
    "            return ''.join([rst[0]] +[(x)[-1] for x in  rst[1:]])"
   ]
  },
  {
   "cell_type": "markdown",
   "metadata": {},
   "source": [
    "# Repeated substring pattern \n",
    "https://leetcode.com/problems/repeated-substring-pattern/"
   ]
  },
  {
   "cell_type": "code",
   "execution_count": 70,
   "metadata": {},
   "outputs": [],
   "source": [
    "class Solution(object):\n",
    "    def repeatedSubstringPattern(self, s):\n",
    "        for i in range( len(set(s)),int( len(s)/2) + 1): \n",
    "            sub = s[:i]\n",
    "            if len(s) % len(sub) == 0 and s == sub * int( len(s) / len(sub)): \n",
    "                return True"
   ]
  },
  {
   "cell_type": "code",
   "execution_count": null,
   "metadata": {},
   "outputs": [],
   "source": []
  },
  {
   "cell_type": "markdown",
   "metadata": {},
   "source": [
    "# Medium "
   ]
  },
  {
   "cell_type": "markdown",
   "metadata": {},
   "source": [
    "# Word Subsets: \n",
    "https://leetcode.com/problems/word-subsets/"
   ]
  },
  {
   "cell_type": "code",
   "execution_count": 106,
   "metadata": {},
   "outputs": [],
   "source": [
    "\"\"\"my method, I don't know how to write better code\"\"\"\n",
    "def check_subset(A, B):\n",
    "# aa is a word in a, B is the list   \n",
    "    output = []\n",
    "    for aa in A: \n",
    "        rst = []\n",
    "        for b in B: \n",
    "            a = Counter(aa)\n",
    "            b = Counter(b)\n",
    "\n",
    "            if set(b.keys()).issubset(a.keys()) and set([b[x] <= a[x] for x in list(b.keys())])== {True}:\n",
    "                rst.append(True)\n",
    "            else:\n",
    "                rst.append(False)\n",
    "        if set(rst) == {True}:\n",
    "            output.append(aa)\n",
    "    return output "
   ]
  },
  {
   "cell_type": "code",
   "execution_count": 122,
   "metadata": {},
   "outputs": [
    {
     "name": "stdout",
     "output_type": "stream",
     "text": [
      "['google', 'leetcode']\n",
      "['google', 'leetcode']\n"
     ]
    }
   ],
   "source": [
    "\"\"\" my improved solution\n",
    ",using |= operation\"\"\"\n",
    "from collections import Counter \n",
    "class Solution(object):\n",
    "    def wordSubsets(self, A, B):\n",
    "        cbmax = Counter()\n",
    "        for b in B:\n",
    "            cbmax |= Counter(b)\n",
    "        return ([a for a in A if set(cbmax.keys()).issubset( set(Counter(a).keys())) and\n",
    "          set(Counter(a)[i] - cbmax[i] >= 0 for i in cbmax.keys()) == {True}])"
   ]
  },
  {
   "cell_type": "code",
   "execution_count": null,
   "metadata": {},
   "outputs": [],
   "source": [
    "\"\"\"leetcode solution\"\"\"\n",
    "class Solution:\n",
    "    def wordSubsets(self, A: List[str], B: List[str]) -> List[str]:\n",
    "        cbmax = Counter()\n",
    "        for b in B:\n",
    "            cbmax |= Counter(b)\n",
    "        \"\"\"This logic utilize the fact that Counter operation would not generate negative result\n",
    "        Counter({'a':1}) - Counter({'a':2})  -- returns empty Counter object\n",
    "        we need to satisfy two criterias\n",
    "        1. all keys in cbmax needs to be in counter(a) --> if cbmax key is not in counter a, \n",
    "        cbmax - counter(a) will be not empty\n",
    "        2. cbmax key value must be smaller than Counter(a) value --> if cbmax value larger than counter a\n",
    "        cbmax - counter(a) will be not empty\n",
    "        therefore, if cbmax -Counter(a) is an empty object, a must be valid\"\"\"\n",
    "        return [a for a in A if not cbmax - Counter(a)]"
   ]
  },
  {
   "cell_type": "markdown",
   "metadata": {},
   "source": [
    "# Integer to roman \n",
    "https://leetcode.com/problems/integer-to-roman/"
   ]
  },
  {
   "cell_type": "code",
   "execution_count": 13,
   "metadata": {},
   "outputs": [
    {
     "data": {
      "text/plain": [
       "'IV'"
      ]
     },
     "execution_count": 13,
     "metadata": {},
     "output_type": "execute_result"
    }
   ],
   "source": [
    "class Solution(object):\n",
    "    def intToRoman(self, num):\n",
    "        val = {'M':1000,'CM':900,'D':500,'CD':400,'C':100,'XC':90,'L':50,'XL':40,\n",
    "      'X':10,'IX':9,'V':5,'IV':4,'I':1}\n",
    "        \n",
    "        roman = ''\n",
    "        while num>0 : \n",
    "            for k in val: \n",
    "                if num//val[k] >0 : \n",
    "                    num -= val[k]\n",
    "                    roman +=k\n",
    "        return roman"
   ]
  },
  {
   "cell_type": "code",
   "execution_count": 9,
   "metadata": {},
   "outputs": [
    {
     "ename": "SyntaxError",
     "evalue": "invalid syntax (<ipython-input-9-f3ce4704eb4e>, line 2)",
     "output_type": "error",
     "traceback": [
      "\u001b[1;36m  File \u001b[1;32m\"<ipython-input-9-f3ce4704eb4e>\"\u001b[1;36m, line \u001b[1;32m2\u001b[0m\n\u001b[1;33m    if word == word.lower() or word ==word.upper() or word = word[:1].upper() + word[1:].lower() :\u001b[0m\n\u001b[1;37m                                                           ^\u001b[0m\n\u001b[1;31mSyntaxError\u001b[0m\u001b[1;31m:\u001b[0m invalid syntax\n"
     ]
    }
   ],
   "source": [
    "def detectCapitalUse(word):\n",
    "    if word == word.lower() or word ==word.upper() or word = word[:1].upper() + word[1:].lower() :\n",
    "        return True \n",
    "    return False "
   ]
  },
  {
   "cell_type": "code",
   "execution_count": 3,
   "metadata": {},
   "outputs": [
    {
     "data": {
      "text/plain": [
       "'usa'"
      ]
     },
     "execution_count": 3,
     "metadata": {},
     "output_type": "execute_result"
    }
   ],
   "source": []
  },
  {
   "cell_type": "code",
   "execution_count": 14,
   "metadata": {},
   "outputs": [
    {
     "data": {
      "text/plain": [
       "'badcfeg'"
      ]
     },
     "execution_count": 14,
     "metadata": {},
     "output_type": "execute_result"
    }
   ],
   "source": [
    "\n",
    "s = \"abcdefg\"\n",
    "k = 2\n",
    "rst = ''\n",
    "for i in range( 0 , len(s), k):\n",
    "    if len(s[i:]) < k: \n",
    "        rst  += s[i:] [::-1]\n",
    "    else :     \n",
    "        rst += s[i:i+2][::-1]\n",
    "rst"
   ]
  },
  {
   "cell_type": "code",
   "execution_count": 2,
   "metadata": {},
   "outputs": [],
   "source": [
    "s = \"PPALLP\" \n",
    "from collections import Counter\n",
    "import itertools \n",
    "Counter(s)[P]"
   ]
  },
  {
   "cell_type": "code",
   "execution_count": null,
   "metadata": {},
   "outputs": [],
   "source": []
  },
  {
   "cell_type": "code",
   "execution_count": null,
   "metadata": {},
   "outputs": [],
   "source": []
  },
  {
   "cell_type": "code",
   "execution_count": null,
   "metadata": {},
   "outputs": [],
   "source": []
  }
 ],
 "metadata": {
  "anaconda-cloud": {},
  "kernelspec": {
   "display_name": "Python 3",
   "language": "python",
   "name": "python3"
  },
  "language_info": {
   "codemirror_mode": {
    "name": "ipython",
    "version": 3
   },
   "file_extension": ".py",
   "mimetype": "text/x-python",
   "name": "python",
   "nbconvert_exporter": "python",
   "pygments_lexer": "ipython3",
   "version": "3.8.5"
  }
 },
 "nbformat": 4,
 "nbformat_minor": 2
}
