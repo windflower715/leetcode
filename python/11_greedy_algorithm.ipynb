{
 "cells": [
  {
   "cell_type": "markdown",
   "metadata": {},
   "source": [
    "### Greedy algorithm\n",
    "- Greedy algorithm builds up solution piece by piece, always choosing the next piece with the most obvious and immediate benefit. \n",
    "- The problems that chooses locally optimal but also leads to global optimal are the best fit for greedy. "
   ]
  },
  {
   "cell_type": "markdown",
   "metadata": {},
   "source": [
    "# 455. Assign Cookies\n",
    "https://leetcode.com/problems/assign-cookies/"
   ]
  },
  {
   "cell_type": "code",
   "execution_count": 3,
   "metadata": {},
   "outputs": [
    {
     "data": {
      "text/plain": [
       "2"
      ]
     },
     "execution_count": 3,
     "metadata": {},
     "output_type": "execute_result"
    }
   ],
   "source": [
    "\n",
    "class Solution(object):\n",
    "    def findContentChildren(self, g, s):\n",
    "        g.sort()\n",
    "        s.sort()\n",
    "        rst = 0\n",
    "        while len(g) > 0 and len(s) > 0: \n",
    "            # take the first element from gn and sn\n",
    "            gn = g.pop(0)\n",
    "            sn = s.pop(0)\n",
    "            if sn >= gn : \n",
    "                # if larger, result increment by 1\n",
    "                rst +=1\n",
    "            elif sn < gn:\n",
    "                # else, continue to pop the first element of sn if len(s) > 0 \n",
    "                while len(s) >0: \n",
    "                    sn = s.pop(0)\n",
    "                    # compare with gn\n",
    "                    if sn >= gn:\n",
    "                        rst +=1\n",
    "                        break\n",
    "                    else :\n",
    "                        continue\n",
    "        return rst"
   ]
  },
  {
   "cell_type": "code",
   "execution_count": null,
   "metadata": {},
   "outputs": [],
   "source": []
  }
 ],
 "metadata": {
  "kernelspec": {
   "display_name": "Python 3",
   "language": "python",
   "name": "python3"
  },
  "language_info": {
   "codemirror_mode": {
    "name": "ipython",
    "version": 3
   },
   "file_extension": ".py",
   "mimetype": "text/x-python",
   "name": "python",
   "nbconvert_exporter": "python",
   "pygments_lexer": "ipython3",
   "version": "3.8.5"
  }
 },
 "nbformat": 4,
 "nbformat_minor": 4
}
