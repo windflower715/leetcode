{
 "cells": [
  {
   "cell_type": "markdown",
   "metadata": {},
   "source": [
    "# 00. general\n",
    "1. count prime\n",
    "2. reverse integer\n",
    "3. fizzbuzz\n",
    "# 01.array\n",
    "1. two sum \n",
    "2. remove duplicates from sorted array\n",
    "3. remove element while its in an array\n",
    "4. serach insert array\n",
    "5. maximum subarray\n",
    "6. best time to buy and sell stocks\n",
    "7. merge sorted array\n",
    "8. reorder data in log files \n",
    "9. move zeros in an array to the end \n",
    "# 02.string\n",
    "1. valid parenthesis\n",
    "2. longest common prefix \n",
    "3. implement strSTR(), haystack and needle\n",
    "4. count and say sequence \n",
    "5. remove one letter and become valid palindrome\n",
    "6. most common wrods in a paragraph\n",
    "# 03. hashtable\n",
    "1. roman to integer\n",
    "# 04.dynamic programming\n",
    "1. ways to climbing stairs using 1 or 2 or 3 steps"
   ]
  }
 ],
 "metadata": {
  "kernelspec": {
   "display_name": "Python [anaconda]",
   "language": "python",
   "name": "Python [anaconda]"
  },
  "language_info": {
   "codemirror_mode": {
    "name": "ipython",
    "version": 3
   },
   "file_extension": ".py",
   "mimetype": "text/x-python",
   "name": "python",
   "nbconvert_exporter": "python",
   "pygments_lexer": "ipython3",
   "version": "3.5.4"
  }
 },
 "nbformat": 4,
 "nbformat_minor": 2
}
