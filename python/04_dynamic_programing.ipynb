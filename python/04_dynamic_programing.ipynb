{
 "cells": [
  {
   "cell_type": "markdown",
   "metadata": {},
   "source": [
    "# Climbing stairs\n",
    "- leetcode 70 \n",
    "- You are climbing a stair case. It takes n steps to reach to the top. Each time you can either climb 1 or 2 steps. In how many distinct ways can you climb to the top?\n",
    "- https://leetcode.com/problems/climbing-stairs/\n",
    "*********\n",
    "- this is basically a fibonacci problem, that the current number is the sum of the previous two\n",
    "- think in the following terms, your last climb can either be a 1 step or a 2 step. for S(N), the 1 step you need S(N-1), for the 2 step, you need S(N-2)\n",
    "- So S(N) = S(N-1) + S(N-2)"
   ]
  },
  {
   "cell_type": "code",
   "execution_count": 14,
   "metadata": {},
   "outputs": [
    {
     "data": {
      "text/plain": [
       "8"
      ]
     },
     "execution_count": 14,
     "metadata": {},
     "output_type": "execute_result"
    }
   ],
   "source": [
    "\"\"\"top down recursion\"\"\"\n",
    "def climbstairs(n): \n",
    "    if n==1:\n",
    "        return 1 \n",
    "    if n ==2: \n",
    "        return 2\n",
    "    return climbstairs(n-1) + climbstairs(n-2)\n",
    "\n",
    "climbstairs(5)"
   ]
  },
  {
   "cell_type": "code",
   "execution_count": 16,
   "metadata": {},
   "outputs": [
    {
     "data": {
      "text/plain": [
       "8"
      ]
     },
     "execution_count": 16,
     "metadata": {},
     "output_type": "execute_result"
    }
   ],
   "source": [
    "\"\"\"bottom up O(n) space\"\"\"\n",
    "def climbstairs(n): \n",
    "    if n ==1: \n",
    "        return 1\n",
    "    \"\"\"initialize rst as a list to record number of steps needed for n =1, 2, ...n\"\"\"\n",
    "    rst = [0 for x in range(n)]\n",
    "    rst[0], rst[1] = 1, 2\n",
    "    for i in range(2, n): \n",
    "        rst[i] = rst[i-1] + rst[i-2]\n",
    "    return rst[-1]\n",
    "climbstairs(5)"
   ]
  },
  {
   "cell_type": "code",
   "execution_count": 18,
   "metadata": {},
   "outputs": [
    {
     "name": "stdout",
     "output_type": "stream",
     "text": [
      "1 2 2\n",
      "2 3 2\n",
      "####\n",
      "2 3 3\n",
      "3 5 3\n",
      "####\n",
      "3 5 5\n",
      "5 8 5\n",
      "####\n"
     ]
    },
    {
     "data": {
      "text/plain": [
       "8"
      ]
     },
     "execution_count": 18,
     "metadata": {},
     "output_type": "execute_result"
    }
   ],
   "source": [
    "\"\"\"bottom up constant space\"\"\"\n",
    "def climbstairs(n): \n",
    "    if n ==1 : \n",
    "        return 1\n",
    "    a, b = 1,2 \n",
    "    for i in range(2, n): \n",
    "        \"\"\"create the sequence of b = a+b, and a = b \"\"\"\n",
    "        tmp = b\n",
    "        print(a,b,tmp)\n",
    "        b = a+b\n",
    "        a = tmp \n",
    "        print(a,b,tmp)\n",
    "        print('####')\n",
    "    return b\n",
    "climbstairs(5)\n",
    "        "
   ]
  },
  {
   "cell_type": "markdown",
   "metadata": {},
   "source": [
    "# House Robber\n",
    "You are a professional robber planning to rob houses along a street. Each house has a certain amount of money stashed, the only constraint stopping you from robbing each of them is that adjacent houses have security system connected and it will automatically contact the police if two adjacent houses were broken into on the same night.\n",
    "\n",
    "Given a list of non-negative integers representing the amount of money of each house, determine the maximum amount of money you can rob tonight without alerting the police.\n",
    "\n",
    "\n",
    "https://leetcode.com/problems/house-robber/"
   ]
  },
  {
   "cell_type": "code",
   "execution_count": null,
   "metadata": {},
   "outputs": [],
   "source": [
    "\"\"\"for most DP and recursive solutions, problems can be approached in 5 ways.\n",
    "1. find recursive relation\n",
    "2. recursion, top-down\n",
    "3. recursion + memoization, top-down\n",
    "4. iterative + memoization, bottom-up\n",
    "5. iterative + N variables, bottom-up\"\"\""
   ]
  },
  {
   "cell_type": "code",
   "execution_count": 3,
   "metadata": {},
   "outputs": [
    {
     "data": {
      "text/plain": [
       "[1, 0, 0, 0]"
      ]
     },
     "execution_count": 3,
     "metadata": {},
     "output_type": "execute_result"
    }
   ],
   "source": [
    "# straight DP solution\n",
    "\"\"\"at each step, you can either rob or not rob\"\"\"\n",
    "class Solution(object):\n",
    "    def rob(self, nums):\n",
    "        if not nums: \n",
    "            return 0\n",
    "        if len(nums)==1 :\n",
    "            return nums[0]\n",
    "        dp = [0]*len(nums)\n",
    "        dp[0] = nums[0]\n",
    "        dp[1] = max(nums[0],nums[1])\n",
    "        for i in range(2, len(nums)):\n",
    "            dp[i] = max (dp[i-2] + nums[i] , dp[i-1])\n",
    "        return dp[-1 ]"
   ]
  },
  {
   "cell_type": "code",
   "execution_count": null,
   "metadata": {},
   "outputs": [],
   "source": []
  },
  {
   "cell_type": "code",
   "execution_count": null,
   "metadata": {},
   "outputs": [],
   "source": []
  },
  {
   "cell_type": "code",
   "execution_count": null,
   "metadata": {},
   "outputs": [],
   "source": []
  },
  {
   "cell_type": "markdown",
   "metadata": {},
   "source": [
    "# House Robber II\n",
    "You are a professional robber planning to rob houses along a street. Each house has a certain amount of money stashed. All houses at this place are arranged in a circle. That means the first house is the neighbor of the last one. Meanwhile, adjacent houses have a security system connected, and it will automatically contact the police if two adjacent houses were broken into on the same night.\n",
    "\n",
    "Given a list of non-negative integers nums representing the amount of money of each house, return the maximum amount of money you can rob tonight without alerting the police.\n",
    "\n",
    "https://leetcode.com/problems/house-robber-ii/"
   ]
  },
  {
   "cell_type": "code",
   "execution_count": null,
   "metadata": {},
   "outputs": [],
   "source": []
  },
  {
   "cell_type": "code",
   "execution_count": null,
   "metadata": {},
   "outputs": [],
   "source": []
  },
  {
   "cell_type": "code",
   "execution_count": null,
   "metadata": {},
   "outputs": [],
   "source": []
  },
  {
   "cell_type": "code",
   "execution_count": null,
   "metadata": {},
   "outputs": [],
   "source": []
  }
 ],
 "metadata": {
  "anaconda-cloud": {},
  "kernelspec": {
   "display_name": "Python [anaconda]",
   "language": "python",
   "name": "Python [anaconda]"
  },
  "language_info": {
   "codemirror_mode": {
    "name": "ipython",
    "version": 3
   },
   "file_extension": ".py",
   "mimetype": "text/x-python",
   "name": "python",
   "nbconvert_exporter": "python",
   "pygments_lexer": "ipython3",
   "version": "3.5.4"
  }
 },
 "nbformat": 4,
 "nbformat_minor": 2
}
