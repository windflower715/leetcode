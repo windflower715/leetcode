{
 "cells": [
  {
   "cell_type": "markdown",
   "metadata": {},
   "source": [
    "# BFS vs DFS \n",
    "- both algorithm visit all vertices and edges of a graph, however they are different in the way in which they perform traversals. \n",
    "### DFS\n",
    "- DFS first visited vertices are pushed into stack and second if there is no vertices then visited vertices are popped \n",
    "- DFS follows a path from the starting node to an ending node, then another path from start to end, and so on until all nodes are visited\n",
    "- DFS usually implemented using a stack data structure\n",
    "### BFS \n",
    "- In BFS, one vertex is selected at a time when it is visited and marked then its adjacent are visited and stored in the queue. \n",
    "- BFS proceeds level by level, visiting all nodes on one level before moving on to next\n",
    "- BFS is usually implemented using a queue data structure\n",
    "- BFS generall requires more memory and is slower than DFS\n",
    "- BFS is optimal for finding the shortest path\n",
    "### How to structure BFS/DFS algorithm: \n",
    "- num, you need the combination universe\n",
    "- path to record intermediate result/progress\n",
    "- stop condition to return the result, usually given in the question boundary\n",
    "- result to show end result"
   ]
  },
  {
   "cell_type": "markdown",
   "metadata": {},
   "source": [
    "### DFS| BFS simple implementation"
   ]
  },
  {
   "cell_type": "code",
   "execution_count": 1,
   "metadata": {},
   "outputs": [],
   "source": [
    "graph = {\n",
    "    'A' : ['B','C'],\n",
    "    'B' : ['D', 'E'],\n",
    "    'C' : ['F'],\n",
    "    'D' : [],\n",
    "    'E' : ['F'],\n",
    "    'F' : []}"
   ]
  },
  {
   "cell_type": "code",
   "execution_count": 3,
   "metadata": {},
   "outputs": [
    {
     "name": "stdout",
     "output_type": "stream",
     "text": [
      "A\n",
      "B\n",
      "D\n",
      "E\n",
      "F\n",
      "C\n"
     ]
    }
   ],
   "source": [
    "\"\"\"DFS\"\"\"\n",
    "path = []\n",
    "def dfs(path, graph, node): \n",
    "    if node not in path: \n",
    "        print(node)\n",
    "        path.append( node)\n",
    "        for child in graph[node]:\n",
    "            dfs(path, graph, child)\n",
    "            \n",
    "dfs(path, graph, 'A')"
   ]
  },
  {
   "cell_type": "code",
   "execution_count": 4,
   "metadata": {},
   "outputs": [
    {
     "name": "stdout",
     "output_type": "stream",
     "text": [
      "A\n",
      "B\n",
      "C\n",
      "D\n",
      "E\n",
      "F\n"
     ]
    }
   ],
   "source": [
    "\"\"\"BFS\"\"\"\n",
    "path = []\n",
    "queue = []\n",
    "\n",
    "def bfs(path, graph, node): \n",
    "    path.append( node)\n",
    "    queue.append( node)\n",
    "    while queue: \n",
    "        s = queue.pop(0 )\n",
    "        print(s)\n",
    "        \n",
    "        for child in graph[s]:\n",
    "            if child not in path: \n",
    "                path.append(child)\n",
    "                queue.append(child)\n",
    "                \n",
    "bfs(path, graph, 'A')"
   ]
  },
  {
   "cell_type": "markdown",
   "metadata": {},
   "source": [
    "# Binary Watch\n",
    "https://leetcode.com/problems/binary-watch/"
   ]
  },
  {
   "cell_type": "code",
   "execution_count": 26,
   "metadata": {},
   "outputs": [],
   "source": [
    "# combination method\n",
    "import itertools \n",
    "time = [1,2,4,8,1,2,4,8,16,32]\n",
    "rst = []\n",
    "class Solution(object):\n",
    "    def readBinaryWatch(self, num):\n",
    "        watch = [1,2,4,8,1,2,4,8,16,32]\n",
    "        times = []\n",
    "        for leds in itertools.combinations(range(len(watch)), num):\n",
    "            h = sum(watch[i] for i in leds if i < 4)\n",
    "            m = sum(watch[i] for i in leds if i >= 4)\n",
    "            if h > 11 or m > 59: continue\n",
    "            times.append(\"{}:{:02d}\".format(h, m))\n",
    "        return times"
   ]
  },
  {
   "cell_type": "code",
   "execution_count": 35,
   "metadata": {},
   "outputs": [],
   "source": [
    "\"\"\"the idea is the loop through the leds list, and append the legal result to the result list\"\"\"\n",
    "def calc_times(leds, idx, curr_hr, curr_min, result, n ):\n",
    "    # this is the stop condition, used up n digits in recursion \n",
    "    if n ==0: \n",
    "        if curr_min < 10: \n",
    "            result.append( str(curr_hr) + ':0' + str( curr_min))\n",
    "        else: \n",
    "            result.append( str( curr_hr) + str(curr_min)) \n",
    "            \n",
    "    elif n > 0 and idx < len( leds): \n",
    "        if 0<= idx <=3  and curr_hr + leds[idx] < 12: \n",
    "            # if idx falls in the the hours category, add it to curr_hr\n",
    "            calc_times(leds, idx + 1, curr_hr + leds[idx], curr_min, result, n-1)\n",
    "        if idx >3 and curr_min + leds[idx] < 60: \n",
    "            calc_times(leds, idx + 1, curr_hr, curr_min + leds[idx], result, n-1)\n",
    "        # if it doesnt satisfy the above two criteria, skip and continue in the leads table\n",
    "        calc_times(leds, idx+1, curr_hr, curr_min, result, n)\n",
    "    return result"
   ]
  },
  {
   "cell_type": "code",
   "execution_count": 36,
   "metadata": {},
   "outputs": [
    {
     "data": {
      "text/plain": [
       "['8:00', '4:00', '2:00', '1:00', '032', '016', '0:08', '0:04', '0:02', '0:01']"
      ]
     },
     "execution_count": 36,
     "metadata": {},
     "output_type": "execute_result"
    }
   ],
   "source": [
    "calc_times( [8,4,2,1,32,16,8,4,2,1], 0, 0,0,[], 1 )"
   ]
  },
  {
   "cell_type": "markdown",
   "metadata": {},
   "source": [
    "# count of matches in tournament\n",
    "https://leetcode.com/problems/count-of-matches-in-tournament/"
   ]
  },
  {
   "cell_type": "code",
   "execution_count": 80,
   "metadata": {},
   "outputs": [],
   "source": [
    "# dfs solutions\n",
    "def dfs( n, path, rst ):\n",
    "    if n ==1: \n",
    "        rst.extend(path)\n",
    "        \n",
    "    elif n%2 == 0: \n",
    "        print(n, path)\n",
    "        dfs( n - n/2, path +[ n/2], rst)\n",
    "    elif n%2 !=0: \n",
    "        print(n, path)\n",
    "        dfs(n-(n-1)/2, path + [(n-1)/2],rst)\n",
    "    return sum(rst)"
   ]
  },
  {
   "cell_type": "code",
   "execution_count": 79,
   "metadata": {},
   "outputs": [
    {
     "name": "stdout",
     "output_type": "stream",
     "text": [
      "14 []\n",
      "7.0 [7.0]\n",
      "4.0 [7.0, 3.0]\n",
      "2.0 [7.0, 3.0, 2.0]\n"
     ]
    },
    {
     "data": {
      "text/plain": [
       "13.0"
      ]
     },
     "execution_count": 79,
     "metadata": {},
     "output_type": "execute_result"
    }
   ],
   "source": [
    "dfs( 14, [], [] )"
   ]
  },
  {
   "cell_type": "code",
   "execution_count": 68,
   "metadata": {},
   "outputs": [],
   "source": [
    "class Solution(object):\n",
    "    def numberOfMatches(self, n):\n",
    "        matches = 0\n",
    "        while n!=1:\n",
    "            if n%2 == 0:\n",
    "                n = n/2\n",
    "                matches+=n\n",
    "            else:\n",
    "                matches+=(n-1)/2 #One team is give bye\n",
    "                n = (n+1)/2\n",
    "\n",
    "        return int(matches)"
   ]
  },
  {
   "cell_type": "markdown",
   "metadata": {},
   "source": [
    "# 690. Employee Importance\n",
    "https://leetcode.com/problems/employee-importance/"
   ]
  },
  {
   "cell_type": "code",
   "execution_count": 97,
   "metadata": {},
   "outputs": [],
   "source": [
    "employees = [[1, 5, [2, 3]], [2, 3, []], [3, 3, []]]\n",
    "id = 1 \n",
    "def importance( employees, id):\n",
    "    importance = dict( zip([x[0] for x in employees], [x[1] for x in employees] ))\n",
    "    subordinate = dict(zip([id], [x[2] for x in employees if x[0] == id]))\n",
    "    return sum([ importance[id]] + [importance[i] for i in subordinate[id]])"
   ]
  },
  {
   "cell_type": "code",
   "execution_count": 96,
   "metadata": {},
   "outputs": [
    {
     "data": {
      "text/plain": [
       "{2: []}"
      ]
     },
     "execution_count": 96,
     "metadata": {},
     "output_type": "execute_result"
    }
   ],
   "source": [
    "class Solution(object):\n",
    "    def getImportance(self, employees, id):\n",
    "        \"\"\"\n",
    "        :type employees: Employee\n",
    "        :type id: int\n",
    "        :rtype: int\n",
    "        \"\"\"\n",
    "        # Time: O(n)\n",
    "        # Space: O(n)\n",
    "        emps = {employee.id: employee for employee in employees}\n",
    "        def dfs(id):\n",
    "            subordinates_importance = sum([dfs(sub_id) for sub_id in emps[id].subordinates])\n",
    "            return subordinates_importance + emps[id].importance\n",
    "        return dfs(id)"
   ]
  },
  {
   "cell_type": "code",
   "execution_count": 98,
   "metadata": {},
   "outputs": [
    {
     "data": {
      "text/plain": [
       "3"
      ]
     },
     "execution_count": 98,
     "metadata": {},
     "output_type": "execute_result"
    }
   ],
   "source": [
    "importance ([[1,2,[2]], [2,3,[]]] , 2 )"
   ]
  },
  {
   "cell_type": "markdown",
   "metadata": {},
   "source": [
    "# Medium\n"
   ]
  },
  {
   "cell_type": "markdown",
   "metadata": {},
   "source": [
    "### Letter Combinations of a Phone Number\n",
    "Given a string containing digits from 2-9 inclusive, return all possible letter combinations that the number could represent. Return the answer in any order.\n",
    "\n",
    "A mapping of digit to letters (just like on the telephone buttons) is given below. Note that 1 does not map to any letters.\n",
    "https://leetcode.com/problems/letter-combinations-of-a-phone-number/"
   ]
  },
  {
   "cell_type": "code",
   "execution_count": null,
   "metadata": {},
   "outputs": [],
   "source": []
  }
 ],
 "metadata": {
  "anaconda-cloud": {},
  "kernelspec": {
   "display_name": "Python 3",
   "language": "python",
   "name": "python3"
  },
  "language_info": {
   "codemirror_mode": {
    "name": "ipython",
    "version": 3
   },
   "file_extension": ".py",
   "mimetype": "text/x-python",
   "name": "python",
   "nbconvert_exporter": "python",
   "pygments_lexer": "ipython3",
   "version": "3.8.5"
  }
 },
 "nbformat": 4,
 "nbformat_minor": 2
}
