{
 "cells": [
  {
   "cell_type": "code",
   "execution_count": null,
   "metadata": {},
   "outputs": [],
   "source": []
  },
  {
   "cell_type": "code",
   "execution_count": null,
   "metadata": {},
   "outputs": [],
   "source": []
  },
  {
   "cell_type": "code",
   "execution_count": null,
   "metadata": {},
   "outputs": [],
   "source": []
  },
  {
   "cell_type": "markdown",
   "metadata": {},
   "source": [
    "# Min stack\n",
    "implement stack OOP style\n",
    "https://leetcode.com/problems/min-stack/"
   ]
  },
  {
   "cell_type": "code",
   "execution_count": 2,
   "metadata": {},
   "outputs": [],
   "source": [
    "class MinStack(): \n",
    "    def __init__(self):\n",
    "        \"\"\"\n",
    "        initialize your data structure here.\n",
    "        \"\"\"\n",
    "        self.stack= []\n",
    "\n",
    "    def push(self, x):\n",
    "        \"\"\"\n",
    "        :type x: int\n",
    "        :rtype: nothing\n",
    "        \"\"\"\n",
    "        if not self.stack:self.stack.append((x,x)) \n",
    "        else:\n",
    "           self.stack.append((x,min(x,self.stack[-1][1])))\n",
    "\n",
    "    def pop(self):\n",
    "        \"\"\"\n",
    "        :rtype: nothing\n",
    "        \"\"\"\n",
    "        if self.stack: self.stack.pop()\n",
    "\n",
    "    def top(self):\n",
    "        \"\"\"\n",
    "        :rtype: int\n",
    "        \"\"\"\n",
    "        if self.stack: return self.stack[-1][0]\n",
    "        else: return None\n",
    "\n",
    "    def getMin(self):\n",
    "        \"\"\"\n",
    "        :rtype: int\n",
    "        \"\"\"\n",
    "        if self.stack: return self.stack[-1][1]\n",
    "        else: return None"
   ]
  },
  {
   "cell_type": "markdown",
   "metadata": {},
   "source": [
    "#  Implement Stack using Queues\n",
    "https://leetcode.com/problems/implement-stack-using-queues/"
   ]
  },
  {
   "cell_type": "code",
   "execution_count": 7,
   "metadata": {},
   "outputs": [],
   "source": [
    "class MyStack(object):\n",
    "    def __init__(self): \n",
    "        self.stack = []\n",
    "        \n",
    "    def push( self, x): \n",
    "        self.stack.append(x)\n",
    "        for i in range( 0, len(self.stack) -1): \n",
    "            self.stack.append( self.stack.pop(0))\n",
    "            \n",
    "    def pop(self): \n",
    "        self.stack.pop(0)\n",
    "        \n",
    "    def top(self): \n",
    "        return  self.stack[0]\n",
    "    \n",
    "    def empty(self): \n",
    "        return not self.stack"
   ]
  },
  {
   "cell_type": "markdown",
   "metadata": {},
   "source": [
    "# 232. Implement Queue using Stack\n",
    "https://leetcode.com/problems/implement-queue-using-stacks/"
   ]
  },
  {
   "cell_type": "code",
   "execution_count": null,
   "metadata": {},
   "outputs": [],
   "source": [
    "class MyQueue(object):\n",
    "    def __init__(self):\n",
    "        self.input = []\n",
    "        self.output = []\n",
    "        \n",
    "    def push(self, x):\n",
    "        self.input.append(x)\n",
    "\n",
    "    def pop(self):\n",
    "        self.peek()\n",
    "        return self.output.pop()\n",
    "        \n",
    "    def peek(self):\n",
    "        if(self.output == []):\n",
    "            while(self.input != []):\n",
    "                self.output.append(self.input.pop())\n",
    "        return self.output[-1]\n",
    "        \n",
    "    def empty(self):\n",
    "        return self.input == [] and self.output == []"
   ]
  },
  {
   "cell_type": "code",
   "execution_count": 1,
   "metadata": {},
   "outputs": [
    {
     "data": {
      "text/plain": [
       "3"
      ]
     },
     "execution_count": 1,
     "metadata": {},
     "output_type": "execute_result"
    }
   ],
   "source": [
    "[1,2,3].pop()"
   ]
  },
  {
   "cell_type": "code",
   "execution_count": null,
   "metadata": {},
   "outputs": [],
   "source": []
  },
  {
   "cell_type": "code",
   "execution_count": null,
   "metadata": {},
   "outputs": [],
   "source": []
  },
  {
   "cell_type": "code",
   "execution_count": null,
   "metadata": {},
   "outputs": [],
   "source": []
  }
 ],
 "metadata": {
  "kernelspec": {
   "display_name": "Python 3",
   "language": "python",
   "name": "python3"
  },
  "language_info": {
   "codemirror_mode": {
    "name": "ipython",
    "version": 3
   },
   "file_extension": ".py",
   "mimetype": "text/x-python",
   "name": "python",
   "nbconvert_exporter": "python",
   "pygments_lexer": "ipython3",
   "version": "3.8.5"
  }
 },
 "nbformat": 4,
 "nbformat_minor": 4
}
