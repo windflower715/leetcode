{
 "cells": [
  {
   "cell_type": "markdown",
   "metadata": {},
   "source": [
    "# Linked list\n",
    "- linked list is a data structure that are consisted of nodes\n",
    "- each node has two components: data and pointer, \n",
    "- - data allows every node to store a certain value\n",
    "- - pointer points from current node to the next node\n",
    "- head is the first element of the list, as we approach the of end of a linked list, the head points to a null object"
   ]
  },
  {
   "cell_type": "code",
   "execution_count": 1,
   "metadata": {},
   "outputs": [],
   "source": [
    "\"\"\"define node object, consists of data and next\"\"\"\n",
    "class Node: \n",
    "    def __init__(self, data, next = None):\n",
    "        self.data = data\n",
    "        self.next = None\n",
    "        "
   ]
  },
  {
   "cell_type": "code",
   "execution_count": 23,
   "metadata": {},
   "outputs": [],
   "source": [
    "\"\"\"some easy implementation of linked list\"\"\"\n",
    "class linkedlist: \n",
    "    def __init__(self):\n",
    "        self.head = None\n",
    "        \n",
    "    def print_list(self):\n",
    "        curr = self.head\n",
    "        while curr: \n",
    "            print(curr.data)\n",
    "            curr = curr.next\n",
    "            \n",
    "    def append(self, data): \n",
    "        \"\"\"data is a value, not a node\n",
    "        this function creates a node and append it to the bottom of the list\"\"\"\n",
    "        new_node = Node(data)\n",
    "        curr = self.head \n",
    "        while curr.next:\n",
    "            curr = curr.next\n",
    "        curr.next = new_node\n",
    "    \n",
    "    def prepend(self, data):\n",
    "        \"\"\"this function takes a value, and insert the value to the first node\n",
    "        really cool method\"\"\"\n",
    "        new_node = Node(data)\n",
    "        new_node.next = self.head\n",
    "        self.head = new_node\n",
    "        \n",
    "    def get_kth_node(self, k): \n",
    "        curr = self.head\n",
    "        i =1\n",
    "        while i!= k:\n",
    "            curr = curr.next\n",
    "            i+=1\n",
    "        return curr.data\n",
    "    \n",
    "    def insert_after_kth(self, k, data): \n",
    "        curr = self.head\n",
    "        i = 1\n",
    "        while i!=k :\n",
    "            curr = curr.next\n",
    "            i+=1\n",
    "        curr.next = Node(data)\n",
    "    \n",
    "    #calculate the length of a linked list iteratively\n",
    "    def length_iter(self):\n",
    "        curr = self.head\n",
    "        i =1\n",
    "        while"
   ]
  },
  {
   "cell_type": "code",
   "execution_count": 25,
   "metadata": {},
   "outputs": [],
   "source": [
    "\"\"\"test function in the linkedlist class\"\"\"\n",
    "n1 = Node(1)\n",
    "n2 = Node(2)\n",
    "n3 = Node(3)\n",
    "n1.next = n2\n",
    "n2.next = n3"
   ]
  },
  {
   "cell_type": "code",
   "execution_count": 27,
   "metadata": {},
   "outputs": [
    {
     "name": "stdout",
     "output_type": "stream",
     "text": [
      "1\n",
      "2\n",
      "3\n"
     ]
    }
   ],
   "source": [
    "#declare linkedlist object\n",
    "l1 = linkedlist()\n",
    "#assign head to the first node\n",
    "l1.head = n1\n",
    "# l1.print_list()\n",
    "# #test append \n",
    "# l1.append(4)\n",
    "# l1.print_list()\n",
    "# #test prepend\n",
    "# l1.prepend(0)\n",
    "# l1.print_list()\n",
    "# #get kth node\n",
    "# l1.get_kth_node()\n",
    "l1.print_list()\n",
    "l1.insert_after_kth(3,4)"
   ]
  },
  {
   "cell_type": "code",
   "execution_count": 28,
   "metadata": {},
   "outputs": [
    {
     "name": "stdout",
     "output_type": "stream",
     "text": [
      "1\n",
      "2\n",
      "3\n",
      "4\n"
     ]
    }
   ],
   "source": [
    "l1.print_list()"
   ]
  },
  {
   "cell_type": "code",
   "execution_count": 10,
   "metadata": {},
   "outputs": [
    {
     "name": "stdout",
     "output_type": "stream",
     "text": [
      "0\n",
      "1\n",
      "2\n",
      "3\n",
      "4\n"
     ]
    }
   ],
   "source": []
  },
  {
   "cell_type": "code",
   "execution_count": null,
   "metadata": {},
   "outputs": [],
   "source": []
  }
 ],
 "metadata": {
  "kernelspec": {
   "display_name": "Python 3",
   "language": "python",
   "name": "python3"
  },
  "language_info": {
   "codemirror_mode": {
    "name": "ipython",
    "version": 3
   },
   "file_extension": ".py",
   "mimetype": "text/x-python",
   "name": "python",
   "nbconvert_exporter": "python",
   "pygments_lexer": "ipython3",
   "version": "3.8.5"
  }
 },
 "nbformat": 4,
 "nbformat_minor": 2
}
