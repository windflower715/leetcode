{
 "cells": [
  {
   "cell_type": "markdown",
   "metadata": {},
   "source": [
    "# Linked list\n",
    "- linked list is a data structure that are consisted of nodes\n",
    "- each node has two components: data and pointer, \n",
    "- data allows every node to store a certain value\n",
    "- pointer points from current node to the next node\n",
    "- head is the first element of the list, as we approach the of end of a linked list, the head points to a null object"
   ]
  },
  {
   "cell_type": "markdown",
   "metadata": {},
   "source": [
    "# Implementation"
   ]
  },
  {
   "cell_type": "code",
   "execution_count": 1,
   "metadata": {},
   "outputs": [],
   "source": [
    "\"\"\"define node object, consists of data and next\"\"\"\n",
    "class Node: \n",
    "    def __init__(self, data, next = None):\n",
    "        self.data = data\n",
    "        self.next = None\n",
    "        "
   ]
  },
  {
   "cell_type": "code",
   "execution_count": 2,
   "metadata": {},
   "outputs": [],
   "source": [
    "\"\"\"some easy implementation of linked list\"\"\"\n",
    "class linkedlist: \n",
    "    def __init__(self):\n",
    "        self.head = None\n",
    "        \n",
    "    def print_list(self):\n",
    "        curr = self.head\n",
    "        while curr: \n",
    "            print(curr.data)\n",
    "            curr = curr.next\n",
    "            \n",
    "    def append(self, data): \n",
    "        \"\"\"data is a value, not a node\n",
    "        this function creates a node and append it to the bottom of the list\"\"\"\n",
    "        new_node = Node(data)\n",
    "        curr = self.head \n",
    "        while curr.next:\n",
    "            curr = curr.next\n",
    "        curr.next = new_node\n",
    "    \n",
    "    def prepend(self, data):\n",
    "        \"\"\"this function takes a value, and insert the value to the first node\n",
    "        really cool method\"\"\"\n",
    "        new_node = Node(data)\n",
    "        new_node.next = self.head\n",
    "        self.head = new_node\n",
    "        \n",
    "    def get_kth_node(self, k): \n",
    "        curr = self.head\n",
    "        i =1\n",
    "        while i!= k:\n",
    "            curr = curr.next\n",
    "            i+=1\n",
    "        return curr.data\n",
    "    \n",
    "    def insert_after_kth(self, k, data): \n",
    "        curr = self.head\n",
    "        i = 1\n",
    "        while i!=k :\n",
    "            curr = curr.next\n",
    "            i+=1\n",
    "        curr.next = Node(data)\n",
    "    \n",
    "    #calculate the length of a linked list iteratively\n",
    "    def length_iter(self):\n",
    "        curr = self.head\n",
    "        i =1\n",
    "        while curr.next: \n",
    "            i+=1 \n",
    "            curr = curr.next\n",
    "        return i \n",
    "    \n",
    "    #calculate length of a linked list recursively\n",
    "    def length_recursive(self, curr): \n",
    "        if curr is None: \n",
    "            return 0\n",
    "        return 1 + self.length_recursive(curr.next)\n",
    "    \n",
    "    def delete_nth(self, n): \n",
    "        \"\"\"when you cant solve \"\"\"\n",
    "        curr= self.head\n",
    "        if n ==1: \n",
    "            self.head = curr.next\n",
    "        i = 1 \n",
    "        while i < n-1 : \n",
    "            i+=1\n",
    "            curr = curr.next\n",
    "        curr.next = curr.next.next\n",
    "        return curr\n",
    "        \n",
    "    #remove duplicated node from a sorted linkedlist    \n",
    "    def remove_duplicates(self): \n",
    "        curr = self.head\n",
    "        while curr and curr.next: \n",
    "            print(curr.data)\n",
    "            if curr.data ==curr.next.data:\n",
    "                curr.next = curr.next.next\n",
    "            #don't forget to loop to the next node\n",
    "            curr = curr.next\n",
    "        return curr\n",
    "        "
   ]
  },
  {
   "cell_type": "code",
   "execution_count": 3,
   "metadata": {},
   "outputs": [],
   "source": [
    "def create_linkedlist(flatlist): \n",
    "    nodes = [Node(x) for x in flatlist]\n",
    "    ll = linkedlist()\n",
    "    ll.head = nodes.pop(0)\n",
    "    curr = ll.head\n",
    "    while nodes: \n",
    "        curr.next = nodes.pop(0)\n",
    "        curr = curr.next\n",
    "    return ll"
   ]
  },
  {
   "cell_type": "code",
   "execution_count": 4,
   "metadata": {},
   "outputs": [
    {
     "name": "stdout",
     "output_type": "stream",
     "text": [
      "1\n",
      "2\n",
      "2\n",
      "3\n",
      "4\n"
     ]
    }
   ],
   "source": [
    "\"\"\"test function in the linkedlist class\"\"\"\n",
    "ll  = create_linkedlist([1,2,2,3,4])\n",
    "ll.print_list()"
   ]
  },
  {
   "cell_type": "markdown",
   "metadata": {},
   "source": [
    "# 876. Middle of the Linked List\n",
    "\n",
    "https://leetcode.com/problems/middle-of-the-linked-list/\n",
    "\n",
    "\n",
    "## Slow fast pointer solution\n",
    "- we create two pointer at the linked list head\n",
    "- the slow pointer moves one node at a time, the fast pointer moves two nodes at a time\n",
    "- if the fast pointer reaches the end of the list, the slow pointer should be in the middle"
   ]
  },
  {
   "cell_type": "code",
   "execution_count": 28,
   "metadata": {
    "code_folding": []
   },
   "outputs": [],
   "source": [
    "# Slow fast pointer solution\n",
    "def middlenode( head):\n",
    "    p1, p2 = head, head\n",
    "    while p2 and p2.next: \n",
    "        p1= p1.next\n",
    "        p2= p2.next.next\n",
    "    return p1"
   ]
  },
  {
   "cell_type": "markdown",
   "metadata": {},
   "source": [
    "# Delete Node in a Linked List\n",
    "- This problem specified that you won't be given access to the head\n",
    "- so you need to delete the node by skipping the value\n",
    "\n",
    "https://leetcode.com/problems/delete-node-in-a-linked-list/"
   ]
  },
  {
   "cell_type": "code",
   "execution_count": 36,
   "metadata": {},
   "outputs": [],
   "source": [
    "# Definition for singly-linked list.\n",
    "# class ListNode(object):\n",
    "#     def __init__(self, x):\n",
    "#         self.val = x\n",
    "#         self.next = None\n",
    "\n",
    "class Solution(object):\n",
    "    def deleteNode(self, node):\n",
    "        node.val = node.next.val \n",
    "        node.next = node.next.next"
   ]
  },
  {
   "cell_type": "code",
   "execution_count": 31,
   "metadata": {},
   "outputs": [
    {
     "name": "stdout",
     "output_type": "stream",
     "text": [
      "1\n",
      "2\n",
      "3\n",
      "4\n",
      "5\n",
      "6\n",
      "7\n",
      "8\n"
     ]
    }
   ],
   "source": [
    "l1.print_list()"
   ]
  },
  {
   "cell_type": "code",
   "execution_count": 34,
   "metadata": {},
   "outputs": [],
   "source": [
    "node = n3\n",
    "node.data = node.next.data\n",
    "node.next = node.next.next\n"
   ]
  },
  {
   "cell_type": "code",
   "execution_count": 35,
   "metadata": {},
   "outputs": [
    {
     "name": "stdout",
     "output_type": "stream",
     "text": [
      "1\n",
      "2\n",
      "4\n",
      "5\n",
      "6\n",
      "7\n",
      "8\n"
     ]
    }
   ],
   "source": [
    "l1.print_list()"
   ]
  },
  {
   "cell_type": "markdown",
   "metadata": {},
   "source": [
    "# Reverse linked list\n",
    "- you can solve with interative or recursive solution\n",
    "- for iterative solution, the idea is to start from head, reverse the pointer as you iterate through the list, then return the tail\n",
    "- for recursive solution, similarly with the iterative solution, have the current, previous and next node, only do it in recursive fashion\n",
    "\n",
    "https://leetcode.com/problems/reverse-linked-list/\n",
    "\n",
    "https://www.geeksforgeeks.org/reverse-a-linked-list/"
   ]
  },
  {
   "cell_type": "code",
   "execution_count": 1,
   "metadata": {},
   "outputs": [],
   "source": [
    "#iteractive way\n",
    "def reverselist(head): \n",
    "    prev, curr, nextn  =None , head , None\n",
    "    while curr: \n",
    "        #store the next value of the current node\n",
    "        nextn = curr.next\n",
    "        #reverse current node's pointer\n",
    "        curr.next = prev\n",
    "        # move along the previous and the current node \n",
    "        prev = curr\n",
    "        curr = nextn\n",
    "    return prev "
   ]
  },
  {
   "cell_type": "code",
   "execution_count": 2,
   "metadata": {},
   "outputs": [],
   "source": [
    "class Solution(object):\n",
    "    \n",
    "    def recursion(self, prev, curr, nextn ): \n",
    "        curr.next = prev\n",
    "        if nextn is None:\n",
    "            return curr\n",
    "        return self.recursion(curr, nextn, nextn.next)\n",
    "\n",
    "    def reverseList(self, head):\n",
    "        if not head or not head.next: \n",
    "            return head\n",
    "        secondnode = head.next\n",
    "        head.next = None \n",
    "        return self.recursion (head, secondnode, secondnode.next)\n"
   ]
  },
  {
   "cell_type": "markdown",
   "metadata": {},
   "source": [
    "# Merge two sorted lists\n",
    "https://leetcode.com/problems/merge-two-sorted-lists/"
   ]
  },
  {
   "cell_type": "code",
   "execution_count": 35,
   "metadata": {},
   "outputs": [],
   "source": [
    "# Definition for singly-linked list.\n",
    "# class ListNode(object):\n",
    "#     def __init__(self, val=0, next=None):\n",
    "#         self.val = val\n",
    "#         self.next = next\n",
    "class Solution(object):\n",
    "    def mergeTwoLists(self, l1, l2):\n",
    "         curr1, curr2 =l1, l2\n",
    "        while curr1 and curr2:    \n",
    "            next1, next2  = curr1.next, curr2.next\n",
    "            curr1.next = curr2\n",
    "            curr2.next = next1\n",
    "            curr1 = next1 \n",
    "            curr2 = next2 \n",
    "        return l1"
   ]
  },
  {
   "cell_type": "markdown",
   "metadata": {},
   "source": [
    "# 83. Remove Duplicates from Sorted List\n",
    "https://leetcode.com/problems/remove-duplicates-from-sorted-list/"
   ]
  },
  {
   "cell_type": "code",
   "execution_count": 40,
   "metadata": {
    "code_folding": []
   },
   "outputs": [],
   "source": [
    "# solution 1\n",
    "class listnode(object): \n",
    "    def __init__(self, val =0, next = None):\n",
    "        self.val = val\n",
    "        self.next = next\n",
    "        \n",
    "class Solution(object): \n",
    "    def deleteDuplicates(self, head):\n",
    "        tmp = head\n",
    "        \n",
    "        if head == None:\n",
    "            return None\n",
    "        \n",
    "        while tmp.next != None:\n",
    "            if tmp.val == tmp.next.val:\n",
    "                tmp.next = tmp.next.next\n",
    "            else : \n",
    "                tmp  = tmp.next\n",
    "        return head\n",
    "        \n",
    "        "
   ]
  },
  {
   "cell_type": "code",
   "execution_count": 42,
   "metadata": {},
   "outputs": [],
   "source": [
    "# solution 2 \n",
    "class Solution:\n",
    "    def deleteDuplicates(self, head) :\n",
    "        curr = head\n",
    "        while curr : \n",
    "            # the while statement here is very important\n",
    "            while curr.next and curr.val == curr.next.val: \n",
    "                curr.next = curr.next.next\n",
    "            curr = curr.next\n",
    "        return head\n",
    "            "
   ]
  },
  {
   "cell_type": "markdown",
   "metadata": {},
   "source": [
    "# 160. Intersection of Two Linked Lists\n",
    "- the way to think about it, it is two lists, but it merged into one list when it intersects! \n",
    "- https://leetcode.com/problems/intersection-of-two-linked-lists/"
   ]
  },
  {
   "cell_type": "code",
   "execution_count": 6,
   "metadata": {},
   "outputs": [
    {
     "data": {
      "text/plain": [
       "3"
      ]
     },
     "execution_count": 6,
     "metadata": {},
     "output_type": "execute_result"
    }
   ],
   "source": [
    "ll  = create_linkedlist( [1,2,3])\n",
    "heada = ll.head\n",
    "curra = heada\n",
    "lena = 0 \n",
    "while curra: \n",
    "    lena +=1 \n",
    "    curra = curra.next\n",
    "lena"
   ]
  },
  {
   "cell_type": "code",
   "execution_count": 5,
   "metadata": {},
   "outputs": [],
   "source": [
    "# iterative ways\n",
    "def getintersectionnode(heada, headb): \n",
    "    curra,currb = heada, headb\n",
    "    lena, lenb = 0, 0\n",
    "    # calculate length a\n",
    "    while curra: \n",
    "        lena +=1 \n",
    "        curra = curra.next\n",
    "    # calculate length b\n",
    "    while currb: \n",
    "        lenb +=1\n",
    "        currb = currb.next\n",
    "    \n",
    "    #when the two lists merge, the remaining length must be equal\n",
    "    #we check the length of linked list a and linked list b\n",
    "    #if one is longer than the other, move the head forward until the length matches\n",
    "    \n",
    "    # first point curra and currb back to head\n",
    "    curra,currb = heada, headb\n",
    "    \n",
    "    while lena > lenb and curra: \n",
    "        curra = curra.next\n",
    "        \n",
    "    while lenb > lena and currb:\n",
    "        currb = currb.next\n",
    "        \n",
    "    while lena >0: \n",
    "        if curra == currb:\n",
    "            return curra \n",
    "        curra = curra.next \n",
    "        currb = currb.next\n",
    "        lena -=1\n",
    "    return \n",
    "\n",
    "        \n",
    "\n",
    "\n"
   ]
  },
  {
   "cell_type": "code",
   "execution_count": 18,
   "metadata": {},
   "outputs": [],
   "source": [
    "rst = None\n",
    "\n",
    "\n",
    "def getintersectionnode(headA,headB, skipA,skipB):\n",
    "    try: \n",
    "        while skipA > 0:\n",
    "            skipA -=1\n",
    "            headA = headA.next\n",
    "        while skipB > 0 :\n",
    "            skipB -=1\n",
    "            headB = headB.next\n",
    "        val = headA.data\n",
    "        while headA and headB: \n",
    "            if headA.data == headB.data:\n",
    "                headA, headB =  headA.next, headB.next\n",
    "            else: \n",
    "                return 'No intersection'\n",
    "\n",
    "        return 'Intersected at ' + str(val)\n",
    "    except:\n",
    "        return 'No intersection'\n",
    "\n"
   ]
  },
  {
   "cell_type": "markdown",
   "metadata": {},
   "source": [
    "# 141. Linked List Cycle \n",
    "https://leetcode.com/problems/linked-list-cycle/\n",
    "### Floyd's turtoise and hare algorithm\n",
    "- Cycle-finding algorithm, uses two pointers into a given sequence, one at x1 and another at x2, at each step of the algorithm, it increases i by one, increases another i by 2 steps for it to meet in the middle. "
   ]
  },
  {
   "cell_type": "code",
   "execution_count": 8,
   "metadata": {},
   "outputs": [],
   "source": [
    "n1 = Node(1)\n",
    "n2 = Node(2)\n",
    "l1 = linkedlist()\n",
    "l1.head = n1\n",
    "n1.next = n2\n",
    "n2.next = n1"
   ]
  },
  {
   "cell_type": "code",
   "execution_count": 12,
   "metadata": {},
   "outputs": [
    {
     "data": {
      "text/plain": [
       "True"
      ]
     },
     "execution_count": 12,
     "metadata": {},
     "output_type": "execute_result"
    }
   ],
   "source": [
    "# two pointer? \n",
    "head = l1.head\n",
    "def hascycle(head): \n",
    "    sp, fp = head, head.next\n",
    "    try: \n",
    "        while sp != fp: \n",
    "            sp = sp.next\n",
    "            fp = fp.next.next \n",
    "        return True\n",
    "    except:\n",
    "        return False\n",
    "    \n",
    "hascycle(head)"
   ]
  },
  {
   "cell_type": "markdown",
   "metadata": {},
   "source": [
    "# 203. Remove Linked List Elements\n",
    "https://leetcode.com/problems/remove-linked-list-elements/\n"
   ]
  },
  {
   "cell_type": "code",
   "execution_count": 27,
   "metadata": {},
   "outputs": [],
   "source": [
    "l1 = create_linkedlist([3,3,3])"
   ]
  },
  {
   "cell_type": "code",
   "execution_count": 36,
   "metadata": {},
   "outputs": [],
   "source": [
    "class Solution(object):\n",
    "    def removeElements(self, head, val):\n",
    "        while head and head.val == val:\n",
    "            head = head.next\n",
    "\n",
    "        prev = curr = head\n",
    "        while curr: \n",
    "            if curr.val == val : \n",
    "                prev.next = curr.next\n",
    "            else:\n",
    "                prev = curr\n",
    "            curr = curr.next\n",
    "        return head"
   ]
  },
  {
   "cell_type": "code",
   "execution_count": 37,
   "metadata": {},
   "outputs": [],
   "source": [
    "rst = removeelement( head, val)"
   ]
  },
  {
   "cell_type": "code",
   "execution_count": 26,
   "metadata": {},
   "outputs": [
    {
     "name": "stdout",
     "output_type": "stream",
     "text": [
      "1\n",
      "2\n",
      "3\n",
      "4\n",
      "5\n"
     ]
    }
   ],
   "source": [
    "rst.print_list()"
   ]
  },
  {
   "cell_type": "markdown",
   "metadata": {},
   "source": [
    "# 1669. Merge In Between Linked Lists\n",
    "https://leetcode.com/problems/merge-in-between-linked-lists/"
   ]
  },
  {
   "cell_type": "code",
   "execution_count": 57,
   "metadata": {},
   "outputs": [
    {
     "name": "stdout",
     "output_type": "stream",
     "text": [
      "0\n",
      "1\n",
      "2\n",
      "1000000\n",
      "1000001\n",
      "1000002\n",
      "5\n"
     ]
    }
   ],
   "source": [
    "# my solution\n",
    "list1 = create_linkedlist([0,1,2,3,4,5])\n",
    "a, b = 3,4\n",
    "list2 = create_linkedlist([1000000,1000001,1000002])\n",
    "\n",
    "head1, head2 = list1.head, list2.head\n",
    "curr1, curr2 = head1, head2 \n",
    "\n",
    "\n",
    "\n",
    "#find the start of the insertion, and the follow up node after insertion\n",
    "count1 = 1\n",
    "while curr1: \n",
    "    if count1 ==a:\n",
    "        insert_start = curr1\n",
    "    elif count1 ==b+2:\n",
    "        insert_end_next = curr1\n",
    "    curr1 = curr1.next\n",
    "    count1 +=1 \n",
    "\n",
    "#reset pointer again\n",
    "insert_start.next = head2\n",
    "curr1 = head1\n",
    "#loop till the end of list1\n",
    "while curr1.next:\n",
    "    curr1 = curr1.next\n",
    "    \n",
    "curr1.next = insert_end_next\n",
    "\n",
    "    \n",
    "\n",
    "\n",
    "    "
   ]
  },
  {
   "cell_type": "markdown",
   "metadata": {},
   "source": [
    "# 1721. Swapping Nodes in a Linked List\n",
    "https://leetcode.com/problems/swapping-nodes-in-a-linked-list/"
   ]
  },
  {
   "cell_type": "code",
   "execution_count": 121,
   "metadata": {},
   "outputs": [],
   "source": [
    "class Solution(object):\n",
    "    def swapNodes(self, head, k):\n",
    "\n",
    "        curr = head\n",
    "        count=length = 0 \n",
    "\n",
    "        # find length and the kth node\n",
    "        while curr:\n",
    "            if length+1 == k:\n",
    "                kth = curr\n",
    "            curr = curr.next\n",
    "            length+=1\n",
    "\n",
    "        # find reverse kth node\n",
    "        j = length - k +1\n",
    "        curr = head\n",
    "        count = 0 \n",
    "        while curr:\n",
    "            if count+1 == j:\n",
    "                reverse_kth = curr\n",
    "            curr = curr.next\n",
    "            count+=1\n",
    "\n",
    "        kth.val, reverse_kth.val =reverse_kth.val, kth.val\n",
    "        \n",
    "        return head "
   ]
  },
  {
   "cell_type": "code",
   "execution_count": 103,
   "metadata": {
    "code_folding": []
   },
   "outputs": [
    {
     "data": {
      "text/plain": [
       "4"
      ]
     },
     "execution_count": 103,
     "metadata": {},
     "output_type": "execute_result"
    }
   ],
   "source": [
    "# slow fast pointer solution \n",
    "class Solution:\n",
    "    def swapNodes(self, head: ListNode, k: int) -> ListNode:\n",
    "        dummy = ListNode(-1)\n",
    "        dummy.next = head\n",
    "        fast = dummy\n",
    "        slow = dummy\n",
    "        for _ in range(k):\n",
    "            fast = fast.next\n",
    "        swap1 = fast\n",
    "        while fast:\n",
    "            fast = fast.next\n",
    "            slow = slow.next\n",
    "        swap2 = slow\n",
    "\n",
    "        swap1.val, swap2.val = swap2.val, swap1.val\n",
    "        return head"
   ]
  },
  {
   "cell_type": "markdown",
   "metadata": {},
   "source": [
    "# 1019. Next Greater Node In Linked List\n",
    "https://leetcode.com/problems/next-greater-node-in-linked-list/"
   ]
  },
  {
   "cell_type": "code",
   "execution_count": 31,
   "metadata": {},
   "outputs": [],
   "source": [
    "l1 = create_linkedlist([2,1,5])\n",
    "head = l1.head\n",
    "# my solution, iterative, too slow\n",
    "def nextlargernodes(ll):\n",
    "    curr = ll.head\n",
    "    flatlist = []\n",
    "    while curr: \n",
    "        flatlist.append(curr.data)\n",
    "        curr = curr.next\n",
    "\n",
    "    curr = head\n",
    "    count = 0\n",
    "    rst = []\n",
    "    for count in range(0,len(flatlist)):\n",
    "        largerlist = [x for x in flatlist[count+1:] if x >flatlist[count]]\n",
    "        if len(largerlist)> 0: \n",
    "            rst.append(largerlist[0])\n",
    "        else: \n",
    "            rst.append(0)\n",
    "    return rst \n",
    "\n",
    "    "
   ]
  },
  {
   "cell_type": "code",
   "execution_count": 46,
   "metadata": {},
   "outputs": [
    {
     "name": "stdout",
     "output_type": "stream",
     "text": [
      "[0] [0, 0, 0, 0, 0, 0, 0, 0]\n",
      "[1] [7, 0, 0, 0, 0, 0, 0, 0]\n",
      "[1, 2] [7, 0, 0, 0, 0, 0, 0, 0]\n",
      "[1, 2, 3] [7, 0, 0, 0, 0, 0, 0, 0]\n",
      "[4] [7, 9, 9, 9, 0, 0, 0, 0]\n",
      "[4, 5] [7, 9, 9, 9, 0, 0, 0, 0]\n",
      "[4, 6] [7, 9, 9, 9, 0, 5, 0, 0]\n",
      "[4, 6, 7] [7, 9, 9, 9, 0, 5, 0, 0]\n"
     ]
    },
    {
     "data": {
      "text/plain": [
       "[7, 9, 9, 9, 0, 5, 0, 0]"
      ]
     },
     "execution_count": 46,
     "metadata": {},
     "output_type": "execute_result"
    }
   ],
   "source": [
    "# leetcode solution, stack\n",
    "ll = create_linkedlist([1,7,5,1,9,2,5,1])\n",
    "\n",
    "curr = ll.head\n",
    "flatlist = []\n",
    "while curr: \n",
    "    flatlist.append(curr.data)\n",
    "    curr = curr.next\n",
    "    \n",
    "# create an output array\n",
    "output = [0 for i in range(len(flatlist))]\n",
    "# create a stack to hold the position of the next greatest element\n",
    "stack = []\n",
    "\n",
    "for i in range(len(flatlist)): \n",
    "    \n",
    "    # while stack has some value and value of flatlist at stack's location is less than the value in flatlist at current location\n",
    "    # this while loop checks if all previous element in flatlist( stored by inde in the stack)\n",
    "    # is smaller than current index i in flatlist\n",
    "    # if true, output index i will be updated to flatlist[i] since this item is the immediate larger element\n",
    "    # otherwise it will be left as 0 unchanged, smart!\n",
    "    while stack and flatlist[stack[-1]] < flatlist[i]: \n",
    "        # add the value of ans at current location to output array\n",
    "        output[stack.pop()] = flatlist[i]\n",
    "\n",
    "    stack.append(i)\n",
    "    print(stack, output)\n",
    "    \n",
    "output"
   ]
  },
  {
   "cell_type": "markdown",
   "metadata": {},
   "source": [
    "# 328. Odd Even Linked List \n",
    "https://leetcode.com/problems/odd-even-linked-list/"
   ]
  },
  {
   "cell_type": "code",
   "execution_count": 153,
   "metadata": {
    "code_folding": []
   },
   "outputs": [],
   "source": [
    "# my clumsy solution \n",
    "# Definition for singly-linked list.\n",
    "class ListNode(object):\n",
    "    def __init__(self, val=0, next=None):\n",
    "        self.val = val\n",
    "        self.next = next\n",
    "class Solution(object):\n",
    "    def oddEvenList(self, head):\n",
    "        curr= head\n",
    "        count = 0\n",
    "        oddlist = []\n",
    "        while curr and curr.next: \n",
    "            if count%2 ==0 and curr.next != None: \n",
    "                oddlist.append(curr.next.val)\n",
    "                try:\n",
    "                    curr.next= curr.next.next\n",
    "                    count+=1 \n",
    "                except :\n",
    "                    None\n",
    "            count+=1\n",
    "            curr = curr.next\n",
    "        curr= head\n",
    "        while curr and curr.next:\n",
    "            curr = curr.next   \n",
    "            \n",
    "        while curr and len(oddlist)> 0:\n",
    "            curr.next = ListNode(oddlist.pop(0))\n",
    "            curr = curr.next\n",
    "            \n",
    "        return head\n",
    "            "
   ]
  },
  {
   "cell_type": "code",
   "execution_count": 160,
   "metadata": {},
   "outputs": [
    {
     "name": "stdout",
     "output_type": "stream",
     "text": [
      "###\n",
      "1\n",
      "2\n",
      "3\n",
      "4\n",
      "5\n",
      "###\n",
      "1\n",
      "3\n",
      "4\n",
      "5\n",
      "###\n",
      "1\n",
      "3\n",
      "4\n",
      "5\n",
      "###\n",
      "1\n",
      "3\n",
      "5\n"
     ]
    }
   ],
   "source": [
    "# leetcode solution \n",
    "# https://leetcode.com/problems/odd-even-linked-list/discuss/1209791/Python-Solution-with-O(n)time \n",
    "l1 = create_linkedlist([1,2,3,4,5])\n",
    "front = l1.head\n",
    "even = l1.head.next\n",
    "count = 0 \n",
    "\n",
    "while front.next != None: \n",
    "    print('###')\n",
    "    l1.print_list()\n",
    "    count +=1\n",
    "    \n",
    "    if count %2 !=0 and front.next.next == None:\n",
    "        break\n",
    "    front.next,front = front.next.next,front.next\n",
    "    "
   ]
  },
  {
   "cell_type": "markdown",
   "metadata": {},
   "source": [
    "# 445. Add Two Numbers II\n",
    "https://leetcode.com/problems/add-two-numbers-ii/"
   ]
  },
  {
   "cell_type": "code",
   "execution_count": 17,
   "metadata": {},
   "outputs": [
    {
     "name": "stdout",
     "output_type": "stream",
     "text": [
      "7\n",
      "8\n",
      "0\n",
      "7\n"
     ]
    }
   ],
   "source": [
    "#my solution ... \n",
    "# Definition for singly-linked list.\n",
    "class ListNode(object):\n",
    "    def __init__(self, val=0, next=None):\n",
    "        self.val = val\n",
    "        self.next = next\n",
    "        \n",
    "class Solution(object):\n",
    "    def addTwoNumbers(self, l1, l2):\n",
    "        s1, s2 = '',''\n",
    "\n",
    "        curr =l1head = l1\n",
    "        while curr: \n",
    "            s1 += str(curr.val)\n",
    "            curr = curr.next\n",
    "        curr = l2head = l2\n",
    "        while curr: \n",
    "            s2 += str(curr.val)\n",
    "            curr = curr.next\n",
    "\n",
    "        main = [int(x) for x in list(str(int(s2) + int(s1)) )]\n",
    "        curr = rsthead = ListNode(main.pop(0))\n",
    "        while main:\n",
    "            curr.next = ListNode(main.pop(0))\n",
    "            curr = curr.next\n",
    "        return rsthead"
   ]
  },
  {
   "cell_type": "code",
   "execution_count": null,
   "metadata": {},
   "outputs": [],
   "source": [
    "rsth"
   ]
  },
  {
   "cell_type": "code",
   "execution_count": null,
   "metadata": {},
   "outputs": [],
   "source": []
  },
  {
   "cell_type": "code",
   "execution_count": null,
   "metadata": {},
   "outputs": [],
   "source": []
  },
  {
   "cell_type": "code",
   "execution_count": null,
   "metadata": {},
   "outputs": [],
   "source": []
  }
 ],
 "metadata": {
  "hide_input": false,
  "kernelspec": {
   "display_name": "Python 3",
   "language": "python",
   "name": "python3"
  },
  "language_info": {
   "codemirror_mode": {
    "name": "ipython",
    "version": 3
   },
   "file_extension": ".py",
   "mimetype": "text/x-python",
   "name": "python",
   "nbconvert_exporter": "python",
   "pygments_lexer": "ipython3",
   "version": "3.8.5"
  },
  "toc": {
   "base_numbering": 1,
   "nav_menu": {},
   "number_sections": true,
   "sideBar": true,
   "skip_h1_title": false,
   "title_cell": "Table of Contents",
   "title_sidebar": "Contents",
   "toc_cell": false,
   "toc_position": {
    "height": "757px",
    "left": "74px",
    "top": "110px",
    "width": "356.292px"
   },
   "toc_section_display": true,
   "toc_window_display": true
  }
 },
 "nbformat": 4,
 "nbformat_minor": 2
}
