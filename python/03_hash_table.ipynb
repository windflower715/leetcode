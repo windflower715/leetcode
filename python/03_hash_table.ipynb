{
 "cells": [
  {
   "cell_type": "markdown",
   "metadata": {},
   "source": [
    "# Roman to Integer\n",
    "leetcode 13 \n",
    "https://leetcode.com/problems/roman-to-integer/"
   ]
  },
  {
   "cell_type": "code",
   "execution_count": 9,
   "metadata": {},
   "outputs": [
    {
     "data": {
      "text/plain": [
       "1994"
      ]
     },
     "execution_count": 9,
     "metadata": {},
     "output_type": "execute_result"
    }
   ],
   "source": [
    "class Solution(object):\n",
    "    def romanToInt(self, s):\n",
    "        rst = 0\n",
    "        dic = {'I': 1, 'V': 5 ,'X': 10, 'L': 50, 'C': 100, 'D': 500, 'M': 1000} \n",
    "        for i in range(0, len(s) -1): \n",
    "            if dic[s[i]] < dic[s[i+1] ]:\n",
    "                rst -= dic[s[i]]\n",
    "            else:\n",
    "                rst += dic[s[i]]\n",
    "        rst += dic[s[-1]]\n",
    "        return rst"
   ]
  },
  {
   "cell_type": "code",
   "execution_count": null,
   "metadata": {},
   "outputs": [],
   "source": [
    "[]"
   ]
  }
 ],
 "metadata": {
  "kernelspec": {
   "display_name": "Python [anaconda]",
   "language": "python",
   "name": "Python [anaconda]"
  },
  "language_info": {
   "codemirror_mode": {
    "name": "ipython",
    "version": 3
   },
   "file_extension": ".py",
   "mimetype": "text/x-python",
   "name": "python",
   "nbconvert_exporter": "python",
   "pygments_lexer": "ipython3",
   "version": "3.5.4"
  }
 },
 "nbformat": 4,
 "nbformat_minor": 2
}
