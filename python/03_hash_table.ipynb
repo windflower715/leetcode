{
 "cells": [
  {
   "cell_type": "markdown",
   "metadata": {},
   "source": [
    "# Roman to Integer\n",
    "leetcode 13 \n",
    "https://leetcode.com/problems/roman-to-integer/"
   ]
  },
  {
   "cell_type": "code",
   "execution_count": 9,
   "metadata": {},
   "outputs": [
    {
     "data": {
      "text/plain": [
       "1994"
      ]
     },
     "execution_count": 9,
     "metadata": {},
     "output_type": "execute_result"
    }
   ],
   "source": [
    "class Solution(object):\n",
    "    def romanToInt(self, s):\n",
    "        rst = 0\n",
    "        dic = {'I': 1, 'V': 5 ,'X': 10, 'L': 50, 'C': 100, 'D': 500, 'M': 1000} \n",
    "        for i in range(0, len(s) -1): \n",
    "            if dic[s[i]] < dic[s[i+1] ]:\n",
    "                rst -= dic[s[i]]\n",
    "            else:\n",
    "                rst += dic[s[i]]\n",
    "        rst += dic[s[-1]]\n",
    "        return rst"
   ]
  },
  {
   "cell_type": "markdown",
   "metadata": {},
   "source": [
    "# Two sum \n",
    "Given an array of integers nums and an integer target, return indices of the two numbers such that they add up to target.\n",
    "\n",
    "You may assume that each input would have exactly one solution, and you may not use the same element twice.\n",
    "\n",
    "You can return the answer in any order.\n",
    "https://leetcode.com/problems/two-sum/ "
   ]
  },
  {
   "cell_type": "code",
   "execution_count": 45,
   "metadata": {},
   "outputs": [],
   "source": [
    "nums = [2,7,11,15]\n",
    "target = 9\n",
    "\n",
    "def twoSum( nums, target):\n",
    "    # create a dictionary where numbers as keys, and index as values\n",
    "    # create hasmap on the go\n",
    "    hashmap = {}\n",
    "    for i, num in enumerate(nums): \n",
    "        if target - num in hashmap.keys(): \n",
    "            return i, hashmap[target-num]\n",
    "        hasmap[num] = i"
   ]
  },
  {
   "cell_type": "code",
   "execution_count": 47,
   "metadata": {},
   "outputs": [
    {
     "data": {
      "text/plain": [
       "[1, 2]"
      ]
     },
     "execution_count": 47,
     "metadata": {},
     "output_type": "execute_result"
    }
   ],
   "source": [
    "twoSum(  [0,0,3,4]\n",
    ",0)"
   ]
  },
  {
   "cell_type": "code",
   "execution_count": 50,
   "metadata": {},
   "outputs": [
    {
     "data": {
      "text/plain": [
       "False"
      ]
     },
     "execution_count": 50,
     "metadata": {},
     "output_type": "execute_result"
    }
   ],
   "source": [
    "'b' in {0:'a',1:'b'}"
   ]
  },
  {
   "cell_type": "markdown",
   "metadata": {},
   "source": [
    "# 389. Find the Difference\n",
    "https://leetcode.com/problems/find-the-difference/"
   ]
  },
  {
   "cell_type": "code",
   "execution_count": 34,
   "metadata": {},
   "outputs": [],
   "source": [
    "from collections import Counter\n",
    "class Solution(object):\n",
    "    def findTheDifference(self, s, t):\n",
    "        s = Counter(s)\n",
    "        t = Counter(t)\n",
    "        return ([x for x in t.keys() if x not in s.keys() ] + [x for x in t.keys() if t[x] > s[x] ])[0]"
   ]
  },
  {
   "cell_type": "code",
   "execution_count": 37,
   "metadata": {},
   "outputs": [
    {
     "data": {
      "text/plain": [
       "'a'"
      ]
     },
     "execution_count": 37,
     "metadata": {},
     "output_type": "execute_result"
    }
   ],
   "source": [
    "#you can use two dictionary to find the difference\n",
    "from collections import Counter\n",
    "class Solution(object):\n",
    "    def findTheDifference(self, s, t):\n",
    "         return list((collections.Counter(t) - collections.Counter(s)))[0]"
   ]
  },
  {
   "cell_type": "markdown",
   "metadata": {},
   "source": [
    "\n",
    "# 409. Longest Palindrome\n",
    "https://leetcode.com/problems/longest-palindrome/"
   ]
  },
  {
   "cell_type": "code",
   "execution_count": 26,
   "metadata": {},
   "outputs": [
    {
     "data": {
      "text/plain": [
       "['c', 'd']"
      ]
     },
     "execution_count": 26,
     "metadata": {},
     "output_type": "execute_result"
    }
   ],
   "source": [
    "from collections import Counter\n",
    "s = 'aaabbcccbbaaad'\n",
    "# for all the number with even counts, you can use then directly\n",
    "# for all the number with odd counts, say you have k odd numbers in s , you need to remove  k-1 number, so all odd number in s\n",
    "# became even except for one key\n",
    "oddcount = len([ k for k in Counter(s).keys() if Counter(s)[k]%2 != 0 ])\n"
   ]
  },
  {
   "cell_type": "code",
   "execution_count": 19,
   "metadata": {},
   "outputs": [],
   "source": [
    "def longestPalindrome( s):\n",
    "    odds = sum([freq % 2 for _,freq in Counter(s).items()])\n",
    "    return len(s) if odds <=1 else len(s) - odds + 1 "
   ]
  },
  {
   "cell_type": "code",
   "execution_count": 20,
   "metadata": {},
   "outputs": [
    {
     "data": {
      "text/plain": [
       "25"
      ]
     },
     "execution_count": 20,
     "metadata": {},
     "output_type": "execute_result"
    }
   ],
   "source": [
    "longestPalindrome(s)"
   ]
  },
  {
   "cell_type": "code",
   "execution_count": 10,
   "metadata": {},
   "outputs": [
    {
     "data": {
      "text/plain": [
       "13"
      ]
     },
     "execution_count": 10,
     "metadata": {},
     "output_type": "execute_result"
    }
   ],
   "source": [
    "len('aaabbcccbbaaa')"
   ]
  },
  {
   "cell_type": "code",
   "execution_count": 25,
   "metadata": {},
   "outputs": [
    {
     "data": {
      "text/plain": [
       "2"
      ]
     },
     "execution_count": 25,
     "metadata": {},
     "output_type": "execute_result"
    }
   ],
   "source": [
    "s = 'aaabbcccbbaaad'\n",
    "odds = sum([freq % 2 for _,freq in Counter(s).items()])\n",
    "odds"
   ]
  },
  {
   "cell_type": "markdown",
   "metadata": {},
   "source": [
    "# 463.  Island Permeter\n",
    "https://leetcode.com/problems/island-perimeter/"
   ]
  },
  {
   "cell_type": "code",
   "execution_count": 50,
   "metadata": {},
   "outputs": [
    {
     "name": "stdout",
     "output_type": "stream",
     "text": [
      "0 0 0 1\n",
      "0 0 1 0\n",
      "1 1 1 1\n",
      "0 1 0 0\n",
      "1 0 0 1\n",
      "0 0 1 0\n",
      "1 1 0 0\n"
     ]
    },
    {
     "data": {
      "text/plain": [
       "16"
      ]
     },
     "execution_count": 50,
     "metadata": {},
     "output_type": "execute_result"
    }
   ],
   "source": [
    "import numpy as np \n",
    "class Solution(object):\n",
    "    def islandPerimeter(self, grid):\n",
    "        rst = 0 \n",
    "        shape = np.array(grid).shape\n",
    "        for i in range( 0, shape[0]): \n",
    "            for j in range( 0 , shape[1]): \n",
    "                curr = grid[i][j]\n",
    "                # check the four squares around curr\n",
    "                if curr == 1: \n",
    "                    if i-1>=0 : \n",
    "                        up = grid[i-1][j]\n",
    "                    else:\n",
    "                        up =0\n",
    "                    if j-1>=0 :  \n",
    "                        left= grid[i][j-1]\n",
    "                    else:\n",
    "                        left=0 \n",
    "                    if i +1 <  shape[0] : \n",
    "                        down = grid[i+1][j]\n",
    "                    else:\n",
    "                        down = 0 \n",
    "                    if j+1 < shape[1] : \n",
    "                        right = grid[i][j+1]\n",
    "                    else: \n",
    "                        right = 0\n",
    "                    rst +=4 - up - left - right - down \n",
    "        return rst"
   ]
  },
  {
   "cell_type": "code",
   "execution_count": null,
   "metadata": {},
   "outputs": [],
   "source": []
  }
 ],
 "metadata": {
  "kernelspec": {
   "display_name": "Python 3",
   "language": "python",
   "name": "python3"
  },
  "language_info": {
   "codemirror_mode": {
    "name": "ipython",
    "version": 3
   },
   "file_extension": ".py",
   "mimetype": "text/x-python",
   "name": "python",
   "nbconvert_exporter": "python",
   "pygments_lexer": "ipython3",
   "version": "3.8.5"
  }
 },
 "nbformat": 4,
 "nbformat_minor": 2
}
