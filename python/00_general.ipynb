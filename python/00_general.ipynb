{
 "cells": [
  {
   "cell_type": "code",
   "execution_count": 1,
   "metadata": {},
   "outputs": [],
   "source": [
    "import pandas as pd\n",
    "import numpy as np"
   ]
  },
  {
   "cell_type": "markdown",
   "metadata": {},
   "source": [
    "# 1. Count the number of prime numbers less than a non-negative number, n.\n",
    "https://leetcode.com/problems/count-primes/\n",
    "- 1 is not a prime number"
   ]
  },
  {
   "cell_type": "code",
   "execution_count": 21,
   "metadata": {},
   "outputs": [
    {
     "data": {
      "text/plain": [
       "25"
      ]
     },
     "execution_count": 21,
     "metadata": {},
     "output_type": "execute_result"
    }
   ],
   "source": [
    "# My solution\n",
    "# check if number n is prime, for i >= 3\n",
    "def if_prime(n): \n",
    "    if 0 not in [n%i for i in range(2, n)]:\n",
    "        return True\n",
    "    return False\n",
    "\n",
    "def find_prime(n): \n",
    "    if n==1 or n==2: \n",
    "        return 0\n",
    "    else: \n",
    "        return len([x for x in map(if_prime, list(range(3,n))) if x == True])+1  ## this 1 is for 2\n",
    "\n",
    "find_prime(99)"
   ]
  },
  {
   "cell_type": "code",
   "execution_count": 17,
   "metadata": {},
   "outputs": [
    {
     "data": {
      "text/plain": [
       "25"
      ]
     },
     "execution_count": 17,
     "metadata": {},
     "output_type": "execute_result"
    }
   ],
   "source": [
    "class Solution(object):\n",
    "    def countPrimes(self, n):\n",
    "        \"\"\"\n",
    "        :type n: int\n",
    "        :rtype: int\n",
    "        \"\"\"\n",
    "        # Sieve of Eratosthenes\n",
    "\n",
    "        # We are only interested in numbers LESS than the input number\n",
    "        # exit early for numbers LESS than 2; (two is prime)\n",
    "        if n < 2:\n",
    "            return 0\n",
    "        \n",
    "        # create strike list for the input range, initializing all indices to\n",
    "        # prime (1).\n",
    "        strikes = [1] * n\n",
    "\n",
    "        # we know that 0 and 2 are not prime\n",
    "        strikes[0] = 0\n",
    "        strikes[1] = 0\n",
    "        \n",
    "        # Now set multiples of remaining numbers that are marked as prime to\n",
    "        # not prime.  It is safe ignore numbers alreay marked as not prime\n",
    "        # because there are factor(s) that divide evenly into this number and\n",
    "        # all its multiples.  Use upper limit of (n**0.5)+1, because:\n",
    "        #  (a) the smallest factor of a non-prime number will not be > sqrt(n).\n",
    "        #      Ex. non-prime = 100, \n",
    "        #           5*20\n",
    "        #           10*10, \n",
    "        #           20*5   # !! we have seen 5 before.\n",
    "        for i in range(2, int(n**0.5)+1):\n",
    "            if  strikes[i] != 0:\n",
    "                # slow:\n",
    "                #for j in range(i*i, n, i):\n",
    "                #    strikes[j] = 0\n",
    "\n",
    "                # 3x faster:\n",
    "                # strikes[i*i:n:i] = [0] * ((n-1-i*i)//i + 1)\n",
    "                # n = 11\n",
    "                # i = 2\n",
    "                # (n-1-i*i)//i + 1\n",
    "                # (n-1)               # get total # of indicies for n (non-inclusive)\n",
    "                #     -i*i            # shift to get # of slots in range of interest\n",
    "                #          //i        # get number of groups\n",
    "                #              + 1    # get number of slots\n",
    "                # strikes[2*2:11:2]  = [0] * ((11-1-2*2)//2 + 1\n",
    "                # strikes[4:11:2]    = [0] * 4\n",
    "                # s[4], s[6], s[8], s10] = 0, 0, 0, 0\n",
    "                strikes[i*i:n:i] = [0] * ((n-1-i*i)//i + 1)\n",
    "\n",
    "        return sum(strikes)"
   ]
  },
  {
   "cell_type": "markdown",
   "metadata": {},
   "source": [
    "# Reverse integer\n",
    "https://leetcode.com/problems/reverse-integer/"
   ]
  },
  {
   "cell_type": "code",
   "execution_count": 51,
   "metadata": {},
   "outputs": [],
   "source": [
    "\"\"\"consider the edge case of 0\"\"\"\n",
    "class Solution(object):\n",
    "    def reverse(self, x):\n",
    "        if x ==0:\n",
    "            return 0\n",
    "        result = int(str(abs(x))[::-1]) * x/abs(x)\n",
    "        if result >=  (-2)**31 and result <= 2**31  -1 : \n",
    "            return result\n",
    "        return 0 "
   ]
  },
  {
   "cell_type": "markdown",
   "metadata": {},
   "source": [
    "# Fizzbuzz\n",
    "Write a program that outputs the string representation of numbers from 1 to n.\n",
    "\n",
    "But for multiples of three it should output “Fizz” instead of the number and for the multiples of five output “Buzz”. For numbers which are multiples of both three and five output “FizzBuzz”.\n",
    "\n",
    "Example:\n",
    "\n",
    "n = 15,\n",
    "\n",
    "Return:\n",
    "[\n",
    "    \"1\",\n",
    "    \"2\",\n",
    "    \"Fizz\",\n",
    "    \"4\",\n",
    "    \"Buzz\",\n",
    "    \"Fizz\",\n",
    "    \"7\",\n",
    "    \"8\",\n",
    "    \"Fizz\",\n",
    "    \"Buzz\",\n",
    "    \"11\",\n",
    "    \"Fizz\",\n",
    "    \"13\",\n",
    "    \"14\",\n",
    "    \"FizzBuzz\"\n",
    "]\n",
    "\n",
    "https://leetcode.com/problems/fizz-buzz/"
   ]
  },
  {
   "cell_type": "code",
   "execution_count": null,
   "metadata": {},
   "outputs": [],
   "source": [
    "\"\"\"my if loop method, multithread problem\n",
    "this problem mostly works with the relationship between if and elif\n",
    "if a:\n",
    "  do this \n",
    "elif b:\n",
    "  do that \n",
    "  ====\n",
    "if a :\n",
    "  do this\n",
    "if not a and if b:\n",
    "  do that\n",
    "  \n",
    "  \"\"\"\n",
    "class Solution(object):\n",
    "    def fizzBuzz(self, n):\n",
    "        rst = []\n",
    "        for i in range(1, n+1 ) : \n",
    "            if i%5 ==0 and i%3 == 0:\n",
    "                rst.append('FizzBuzz')\n",
    "            elif i%5 ==0:\n",
    "                rst.append('Buzz')\n",
    "            elif  i%3 == 0:\n",
    "                rst.append('Fizz')\n",
    "            else:\n",
    "                rst.append(str(i))\n",
    "        return rst "
   ]
  },
  {
   "cell_type": "code",
   "execution_count": 7,
   "metadata": {},
   "outputs": [],
   "source": [
    "\"\"\" list comprehension tricky method\"\"\"\n",
    "def fizzbuzz(n ): \n",
    "    \"\"\"four cases for the string output,\n",
    "    either it's fizz\n",
    "    or buzz\n",
    "    or fizzbuzz \n",
    "    or str(i)\"\"\"\n",
    "    return ['Fizz' *( i%3 ==0)  + 'Buzz'* (i%5==0) or str( i) for i in range(1, n+1)]"
   ]
  },
  {
   "cell_type": "code",
   "execution_count": 9,
   "metadata": {},
   "outputs": [
    {
     "data": {
      "text/plain": [
       "['1',\n",
       " '2',\n",
       " 'Fizz',\n",
       " '4',\n",
       " 'Buzz',\n",
       " 'Fizz',\n",
       " '7',\n",
       " '8',\n",
       " 'Fizz',\n",
       " 'Buzz',\n",
       " '11',\n",
       " 'Fizz',\n",
       " '13',\n",
       " '14',\n",
       " 'FizzBuzz']"
      ]
     },
     "execution_count": 9,
     "metadata": {},
     "output_type": "execute_result"
    }
   ],
   "source": [
    "fizzbuzz(15)"
   ]
  },
  {
   "cell_type": "markdown",
   "metadata": {},
   "source": [
    "# Rectangle Overlap\n",
    "A rectangle is represented as a list [x1, y1, x2, y2], where (x1, y1) are the coordinates of its bottom-left corner, and (x2, y2) are the coordinates of its top-right corner.\n",
    "\n",
    "Two rectangles overlap if the area of their intersection is positive.  To be clear, two rectangles that only touch at the corner or edges do not overlap.\n",
    "\n",
    "Given two (axis-aligned) rectangles, return whether they overlap.\n",
    "- https://leetcode.com/problems/rectangle-overlap/"
   ]
  },
  {
   "cell_type": "markdown",
   "metadata": {},
   "source": [
    "# Happy number\n",
    "https://leetcode.com/problems/happy-number/"
   ]
  },
  {
   "cell_type": "code",
   "execution_count": 6,
   "metadata": {},
   "outputs": [],
   "source": [
    "n = 19  \n",
    "def ishappy(n):\n",
    "    path = []\n",
    "    while n!= 1:\n",
    "        n = sum([int(i) ** 2 for i in str(n)])\n",
    "        if n in path:\n",
    "            return False\n",
    "        else:\n",
    "            path.append(n)\n",
    "    return True"
   ]
  },
  {
   "cell_type": "code",
   "execution_count": 7,
   "metadata": {},
   "outputs": [
    {
     "data": {
      "text/plain": [
       "True"
      ]
     },
     "execution_count": 7,
     "metadata": {},
     "output_type": "execute_result"
    }
   ],
   "source": [
    "ishappy(19)"
   ]
  },
  {
   "cell_type": "code",
   "execution_count": null,
   "metadata": {},
   "outputs": [],
   "source": []
  },
  {
   "cell_type": "code",
   "execution_count": null,
   "metadata": {},
   "outputs": [],
   "source": []
  },
  {
   "cell_type": "code",
   "execution_count": null,
   "metadata": {},
   "outputs": [],
   "source": []
  },
  {
   "cell_type": "code",
   "execution_count": 1,
   "metadata": {},
   "outputs": [],
   "source": [
    "coordinates = [[1,2],[2,3],[3,4],[4,5],[5,6],[6,7]]"
   ]
  },
  {
   "cell_type": "code",
   "execution_count": 4,
   "metadata": {},
   "outputs": [],
   "source": [
    "slope =( coordinates[0][1] - coordinates[1][1]) / (coordinates[0][0] - coordinates[1][0])\n",
    "inter = coordinates[0][1] - slope * coordinates[0][0]\n",
    "def check(x): \n",
    "    return [x, slope *x + inter]"
   ]
  },
  {
   "cell_type": "code",
   "execution_count": 13,
   "metadata": {},
   "outputs": [
    {
     "data": {
      "text/plain": [
       "True"
      ]
     },
     "execution_count": 13,
     "metadata": {},
     "output_type": "execute_result"
    }
   ],
   "source": [
    "[check(x) for x in [i[0] for i in coordinates]] == coordinates"
   ]
  },
  {
   "cell_type": "code",
   "execution_count": null,
   "metadata": {},
   "outputs": [],
   "source": []
  }
 ],
 "metadata": {
  "anaconda-cloud": {},
  "kernelspec": {
   "display_name": "Python [anaconda]",
   "language": "python",
   "name": "Python [anaconda]"
  },
  "language_info": {
   "codemirror_mode": {
    "name": "ipython",
    "version": 3
   },
   "file_extension": ".py",
   "mimetype": "text/x-python",
   "name": "python",
   "nbconvert_exporter": "python",
   "pygments_lexer": "ipython3",
   "version": "3.5.4"
  }
 },
 "nbformat": 4,
 "nbformat_minor": 2
}
