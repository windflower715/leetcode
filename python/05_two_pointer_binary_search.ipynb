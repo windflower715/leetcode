{
 "cells": [
  {
   "cell_type": "markdown",
   "metadata": {},
   "source": [
    "# First bad version\n",
    "You are a product manager and currently leading a team to develop a new product. Unfortunately, the latest version of your product fails the quality check. Since each version is developed based on the previous version, all the versions after a bad version are also bad.\n",
    "\n",
    "Suppose you have n versions [1, 2, ..., n] and you want to find out the first bad one, which causes all the following ones to be bad.\n",
    "\n",
    "You are given an API bool isBadVersion(version) which will return whether version is bad. Implement a function to find the first bad version. You should minimize the number of calls to the API.\n",
    "\n",
    "\n",
    "https://leetcode.com/problems/first-bad-version/"
   ]
  },
  {
   "cell_type": "code",
   "execution_count": 1,
   "metadata": {},
   "outputs": [],
   "source": [
    "# The isBadVersion API is already defined for you.\n",
    "# @param version, an integer\n",
    "# @return a bool\n",
    "# def isBadVersion(version):\n",
    "\n",
    "class Solution(object):\n",
    "    def firstBadVersion(self, n):\n",
    "        r = n-1\n",
    "        l = 0\n",
    "        while(l<=r):\n",
    "            mid = l + (r-l)/2\n",
    "            if isBadVersion(mid)==False:\n",
    "                l = mid+1\n",
    "            else:\n",
    "                r = mid-1\n",
    "        return l"
   ]
  },
  {
   "cell_type": "markdown",
   "metadata": {},
   "source": [
    "# Find Smallest Letter Greater Than Target\n",
    "https://leetcode.com/problems/find-smallest-letter-greater-than-target/\n"
   ]
  },
  {
   "cell_type": "code",
   "execution_count": null,
   "metadata": {},
   "outputs": [],
   "source": [
    "class Solution(object):\n",
    "    \n",
    "      def nextGreatestLetter(self, letters, target):\n",
    "        for letter in letters:\n",
    "            if letter > target:\n",
    "                return letter\n",
    "        return letters[0] # If not found"
   ]
  },
  {
   "cell_type": "markdown",
   "metadata": {},
   "source": [
    "# Medium"
   ]
  },
  {
   "cell_type": "markdown",
   "metadata": {},
   "source": [
    "# 3Sum closest\n",
    "https://leetcode.com/problems/3sum-closest/"
   ]
  },
  {
   "cell_type": "code",
   "execution_count": 66,
   "metadata": {},
   "outputs": [],
   "source": [
    "nums =   [-1,2,1,-4]\n",
    "target = 1\n",
    "nums.sort()\n",
    "# This solution is wrong, because you always kept m, one number away from l, cant get all possible combos\n",
    "def threesum(nums, target): \n",
    "    l, r = 0, len(nums)-1 \n",
    "    m = l+1 \n",
    "    rst = nums[0] + nums[1] + nums[2]\n",
    "    while m < r: \n",
    "        m = l+1 \n",
    "        sum_rst = nums[l] + nums[m] + nums[r]\n",
    "        if abs( sum_rst - target) < abs(rst - target) : \n",
    "            rst = sum_rst\n",
    "        if sum_rst < target: \n",
    "            l +=1\n",
    "        elif sum_rst > target: \n",
    "            r -=1\n",
    "        else:\n",
    "            return rst\n",
    "    return rst"
   ]
  },
  {
   "cell_type": "code",
   "execution_count": 67,
   "metadata": {},
   "outputs": [
    {
     "data": {
      "text/plain": [
       "2"
      ]
     },
     "execution_count": 67,
     "metadata": {},
     "output_type": "execute_result"
    }
   ],
   "source": [
    "threesum(nums, target )"
   ]
  },
  {
   "cell_type": "code",
   "execution_count": 54,
   "metadata": {},
   "outputs": [
    {
     "data": {
      "text/plain": [
       "2"
      ]
     },
     "execution_count": 54,
     "metadata": {},
     "output_type": "execute_result"
    }
   ],
   "source": [
    "class Solution(object):\n",
    "    def threeSumClosest(self, nums, target):\n",
    "        nums.sort()\n",
    "        rst = nums[0] + nums[1] + nums[2]\n",
    "        for i in range( 0, len(nums) -2): \n",
    "            j, k = i+1, len(nums)-1 \n",
    "            while j < k: \n",
    "                tmp = nums[i] + nums[j] + nums[k]\n",
    "                if tmp == target  : \n",
    "                    return tmp\n",
    "                if abs(tmp- target) < abs (rst- target): \n",
    "                    rst = tmp\n",
    "                if tmp < target: \n",
    "                    j +=1\n",
    "                if tmp > target:\n",
    "                    k -=1\n",
    "        return rst"
   ]
  }
 ],
 "metadata": {
  "anaconda-cloud": {},
  "kernelspec": {
   "display_name": "Python 3",
   "language": "python",
   "name": "python3"
  },
  "language_info": {
   "codemirror_mode": {
    "name": "ipython",
    "version": 3
   },
   "file_extension": ".py",
   "mimetype": "text/x-python",
   "name": "python",
   "nbconvert_exporter": "python",
   "pygments_lexer": "ipython3",
   "version": "3.8.5"
  }
 },
 "nbformat": 4,
 "nbformat_minor": 2
}
