{
 "cells": [
  {
   "cell_type": "markdown",
   "metadata": {},
   "source": [
    "# Easy"
   ]
  },
  {
   "cell_type": "markdown",
   "metadata": {},
   "source": [
    "# Two sum\n",
    "Given an array of integers nums and an integer target, return indices of the two numbers such that they add up to target.\n",
    "\n",
    "You may assume that each input would have exactly one solution, and you may not use the same element twice.\n",
    "\n",
    "You can return the answer in any order.\n",
    "\n",
    "https://leetcode.com/problems/two-sum/"
   ]
  },
  {
   "cell_type": "code",
   "execution_count": 13,
   "metadata": {},
   "outputs": [
    {
     "data": {
      "text/plain": [
       "[0, 1]"
      ]
     },
     "execution_count": 13,
     "metadata": {},
     "output_type": "execute_result"
    }
   ],
   "source": [
    "\"\"\"smart brute force\n",
    "iterate through the first numbers except last, and see the remaining if it's in the nums\"\"\"\n",
    "nums = [3,3]\n",
    "target = 6\n",
    "def twoSum( nums, target):\n",
    "    for i in range(0,len(nums)-1): \n",
    "        remaining = target - nums[i]\n",
    "        if remaining in nums[i+1: ] :\n",
    "            return[i, [x for x in range(0, len(nums) )if nums[x] ==remaining ][-1]]\n",
    "                 \n",
    "twoSum( nums, target)"
   ]
  },
  {
   "cell_type": "code",
   "execution_count": 18,
   "metadata": {},
   "outputs": [
    {
     "data": {
      "text/plain": [
       "[1, 0]"
      ]
     },
     "execution_count": 18,
     "metadata": {},
     "output_type": "execute_result"
    }
   ],
   "source": [
    "\"\"\"smart hash table\n",
    "use enumerate of nums once, create a dictionary record index and numbers of nums\n",
    "if the remaining is in dictionary, return index\n",
    "else put the number and index in the dictionary\"\"\"\n",
    "\n",
    "def twoSum( nums, target):\n",
    "    dic = { }\n",
    "    for idx, num in enumerate(nums): \n",
    "        remaining = target - num\n",
    "        if remaining in dic.keys():\n",
    "            return [idx, dic[remaining]]\n",
    "        else:\n",
    "            dic[num] = idx\n",
    "twoSum( nums, target)"
   ]
  },
  {
   "cell_type": "markdown",
   "metadata": {},
   "source": [
    "# Remove duplicates from sorted array \n",
    "leetcode 26 \n",
    "https://leetcode.com/problems/remove-duplicates-from-sorted-array/\n",
    "- Here said inplace, doesn't mean you have to modify the array\n"
   ]
  },
  {
   "cell_type": "code",
   "execution_count": 64,
   "metadata": {},
   "outputs": [
    {
     "data": {
      "text/plain": [
       "'why nums[:] not nums? \\nhere nums[:] replace the items in the original list, \\nwhile nums just creates a new object'"
      ]
     },
     "execution_count": 64,
     "metadata": {},
     "output_type": "execute_result"
    }
   ],
   "source": [
    "def removeDuplicates(nums):\n",
    "    nums[:] = sorted(set(nums))\n",
    "    return len(nums)\n",
    "\"\"\"why nums[:] not nums? \n",
    "here nums[:] replace the items in the original list, \n",
    "while nums just creates a new object\"\"\""
   ]
  },
  {
   "cell_type": "code",
   "execution_count": 66,
   "metadata": {},
   "outputs": [],
   "source": [
    "nums = [1,1,2] \n",
    "def removeDuplicates( nums):\n",
    "    rst = 1\n",
    "    \"iterate from the first element to the second last element\"\n",
    "    for i in range(0, len(nums)-1 ): \n",
    "        \"if we find an element that is unique\"\n",
    "        if nums[i]!= nums[i+1]: \n",
    "            nums[rst] = nums[i+1]\n",
    "            rst+=1\n",
    "    return rst"
   ]
  },
  {
   "cell_type": "markdown",
   "metadata": {},
   "source": [
    "# Remove element\n",
    "https://leetcode.com/problems/remove-element/"
   ]
  },
  {
   "cell_type": "code",
   "execution_count": 67,
   "metadata": {},
   "outputs": [],
   "source": [
    "def removeElement( nums, val):\n",
    "    while val in nums: \n",
    "        nums.remove(val)\n",
    "    return nums"
   ]
  },
  {
   "cell_type": "code",
   "execution_count": 76,
   "metadata": {},
   "outputs": [],
   "source": [
    "def removeElement( nums, val):\n",
    "    \"\"\"two pointer swap solution\n",
    "    we start from the left of the list, check if every element is equal to val\n",
    "    if it equals to val, we swap it to the right, and decrease the end by 1, \n",
    "    because we can rule out that element in the end\n",
    "    if the value doesnt equal to val, then increase start by 1\n",
    "    \"\"\"\n",
    "    start, end = 0, len(nums)-1\n",
    "    while start <= end: \n",
    "        if nums[start] ==val: \n",
    "            nums[start], nums[end],end = nums[end], nums[start], end -1\n",
    "        else:\n",
    "            start +=1 \n",
    "    return start"
   ]
  },
  {
   "cell_type": "code",
   "execution_count": 77,
   "metadata": {},
   "outputs": [
    {
     "data": {
      "text/plain": [
       "2"
      ]
     },
     "execution_count": 77,
     "metadata": {},
     "output_type": "execute_result"
    }
   ],
   "source": [
    "removeElement( [3,2,2,3], 3)"
   ]
  },
  {
   "cell_type": "markdown",
   "metadata": {},
   "source": [
    "# Search Insert Position \n",
    "leetcode 35\n",
    "https://leetcode.com/problems/search-insert-position/"
   ]
  },
  {
   "cell_type": "code",
   "execution_count": 86,
   "metadata": {},
   "outputs": [],
   "source": [
    "def searchInsert( nums, target):\n",
    "    try:\n",
    "        return nums.index(target)\n",
    "    except: \n",
    "        for i in range(0, len(nums)):\n",
    "            if nums[i] > target: \n",
    "                return i \n",
    "        return len(nums)"
   ]
  },
  {
   "cell_type": "markdown",
   "metadata": {},
   "source": [
    "# Maximum subarray\n",
    "- Given an integer array nums, find the contiguous subarray (containing at least one number) which has the largest sum and return its sum.\n",
    "\n",
    "- Follow up: If you have figured out the O(n) solution, try coding another solution using the divide and conquer approach, which is more subtle.\n",
    "leetcode 53\n",
    "https://leetcode.com/problems/maximum-subarray/"
   ]
  },
  {
   "cell_type": "code",
   "execution_count": 96,
   "metadata": {},
   "outputs": [
    {
     "data": {
      "text/plain": [
       "1"
      ]
     },
     "execution_count": 96,
     "metadata": {},
     "output_type": "execute_result"
    }
   ],
   "source": [
    "\"\"\"Kadane's algorithm\n",
    "   1. set maxsum and cursum equal to the first element of the list\n",
    "   2. iterate through from the second element of the list \n",
    "   3. let cursum be the max(cursum +i , i)  [ if add the element to the current sum makes it larger, then add\n",
    "   otherwise take the element as the current sum]\n",
    "   4. take the max of max sum vs current sum\"\"\"\n",
    "def maxsubarray(nums: )\n",
    "    maxsum, cursum = nums[0], nums[0]\n",
    "    for i in range(1, len(nums)):\n",
    "        cursum = max(cursum + nums[i] , nums[i])\n",
    "        maxsum = max( maxsum, cursum)\n",
    "        print(cursum, maxsum)\n",
    "    return maxsum"
   ]
  },
  {
   "cell_type": "code",
   "execution_count": 93,
   "metadata": {},
   "outputs": [
    {
     "data": {
      "text/plain": [
       "[-2, 1, -2, 4, 3, 5, 6, 1, 5]"
      ]
     },
     "execution_count": 93,
     "metadata": {},
     "output_type": "execute_result"
    }
   ],
   "source": [
    "nums = [-2,1,-3,4,-1,2,1,-5,4]\n",
    "for i in range(1, len(nums)) : \n",
    "    if nums[i-1]> 0:\n",
    "        nums[i] += nums[i-1]\n",
    "nums"
   ]
  },
  {
   "cell_type": "markdown",
   "metadata": {},
   "source": [
    "# Best Time to Buy and Sell Stock \n",
    "leetcode 121 \n",
    "https://leetcode.com/problems/best-time-to-buy-and-sell-stock/\n",
    "- Kadane's algorithm"
   ]
  },
  {
   "cell_type": "code",
   "execution_count": 14,
   "metadata": {},
   "outputs": [
    {
     "data": {
      "text/plain": [
       "5"
      ]
     },
     "execution_count": 14,
     "metadata": {},
     "output_type": "execute_result"
    }
   ],
   "source": [
    "\"\"\"my slow iterative solution\"\"\"\n",
    "class Solution(object):\n",
    "    def maxProfit(self, prices):\n",
    "        maxprofit = 0\n",
    "        for i in range(0, len(prices)-1): \n",
    "            maxprofit = max(maxprofit, max(prices[i+1:]) - prices[i])\n",
    "        return maxprofit"
   ]
  },
  {
   "cell_type": "code",
   "execution_count": 15,
   "metadata": {},
   "outputs": [],
   "source": [
    "\"\"\"same iterative solution but keeping both min and max \"\"\"\n",
    "def maxprofit(prices):\n",
    "    minprice, maxprofit= np.inf, 0\n",
    "    for i in prices: \n",
    "        minprice = min(minprice, i)\n",
    "        maxprofit = max(maxprofit, i - minprice)\n",
    "    return maxprofit"
   ]
  },
  {
   "cell_type": "code",
   "execution_count": 25,
   "metadata": {},
   "outputs": [
    {
     "data": {
      "text/plain": [
       "5"
      ]
     },
     "execution_count": 25,
     "metadata": {},
     "output_type": "execute_result"
    }
   ],
   "source": [
    "\"\"\"Kadane's algorithm keep track of current profit and potential profit\n",
    "1. we need to keep track of the minimal price that can serve as the entry pooint\n",
    "2. iterate through the price and calculate max profit\"\"\"\n",
    "prices = [7,1,5,3,6,4]\n",
    "def maxprofit(prices):\n",
    "    maxprofit,minprice = 0, prices[0] \n",
    "    for i in prices: \n",
    "        minprice = min(i, minprice)\n",
    "        maxprofit = max(maxprofit, i - minprice)\n",
    "    return maxprofit \n",
    "maxprofit(prices)    "
   ]
  },
  {
   "cell_type": "markdown",
   "metadata": {},
   "source": [
    "# Merge sorted array\n",
    "https://leetcode.com/problems/merge-sorted-array/"
   ]
  },
  {
   "cell_type": "code",
   "execution_count": 51,
   "metadata": {},
   "outputs": [],
   "source": [
    "class Solution(object):\n",
    "    def merge(self, nums1, m, nums2, n):\n",
    "        for i, j in enumerate([x for x in range(m, m+n)]): \n",
    "            nums1[j] = nums2[i]\n",
    "        nums1.sort()\n",
    "        return nums1 "
   ]
  },
  {
   "cell_type": "markdown",
   "metadata": {},
   "source": [
    "# Reorder data in log files\n",
    "https://leetcode.com/problems/reorder-data-in-log-files/\n"
   ]
  },
  {
   "cell_type": "code",
   "execution_count": 52,
   "metadata": {},
   "outputs": [],
   "source": [
    "logs = [\"dig1 8 1 5 1\",\"let1 art can\",\"dig2 3 6\",\"let2 own kit dig\",\"let3 art zero\"]"
   ]
  },
  {
   "cell_type": "code",
   "execution_count": 56,
   "metadata": {},
   "outputs": [
    {
     "data": {
      "text/plain": [
       "['let1 art can', 'let2 own kit dig', 'let3 art zero']"
      ]
     },
     "execution_count": 56,
     "metadata": {},
     "output_type": "execute_result"
    }
   ],
   "source": [
    "class Solution(object):\n",
    "    def reorderLogFiles(self, logs):\n",
    "        \n",
    "        digitlogs = []\n",
    "        letterlogs = []\n",
    "        for i in logs: \n",
    "            \"\"\"check if a number is digit \"\"\"\n",
    "            if i.split(' ')[1].isdigit() is True: \n",
    "                digitlogs.append(i)\n",
    "            else:\n",
    "                letterlogs.append(i)\n",
    "        \"\"\"sort letter logs lexicographically ignoring identifier, identifier only used in case of ties \"\"\"\n",
    "        letterlogs.sort( key = lambda x : x.split( )[0] )\n",
    "        letterlogs.sort( key = lambda x : x.split( )[1:] )\n",
    "        rst = letterlogs + digitlogs\n",
    "        \n",
    "        return rst "
   ]
  },
  {
   "cell_type": "markdown",
   "metadata": {},
   "source": [
    "# Move Zeroes\n",
    "https://leetcode.com/problems/move-zeroes/\n",
    "- leetcode 283"
   ]
  },
  {
   "cell_type": "code",
   "execution_count": 65,
   "metadata": {},
   "outputs": [
    {
     "name": "stdout",
     "output_type": "stream",
     "text": [
      "0\n",
      "2\n"
     ]
    },
    {
     "data": {
      "text/plain": [
       "[0, 1, 0]"
      ]
     },
     "execution_count": 65,
     "metadata": {},
     "output_type": "execute_result"
    }
   ],
   "source": [
    "\"\"\"use index\"\"\"\n",
    "class Solution(object):\n",
    "    def moveZeroes(self, nums):\n",
    "        try: \n",
    "            minidx0 = min([x for x in range(0,len(nums)) if nums[x] == 0])\n",
    "            minidxelse = max([x for x in range(0,len(nums)) if nums[x] != 0])\n",
    "            while minidx0 < minidxelse:\n",
    "                nums.pop(minidx0)\n",
    "                nums.append(0)\n",
    "                minidx0 = min([x for x in range(0,len(nums)) if nums[x] == 0])\n",
    "                minidxelse = max([x for x in range(0,len(nums)) if nums[x] != 0])\n",
    "            return nums\n",
    "        except:\n",
    "            return nums"
   ]
  },
  {
   "cell_type": "code",
   "execution_count": null,
   "metadata": {},
   "outputs": [],
   "source": [
    "\"\"\"string slicing\"\"\"\n",
    "class Solution(object):\n",
    "    def moveZeroes(self, nums):\n",
    "        nonzero =  [x for x in nums if x!= 0 ]\n",
    "        nums[:len(nonzero) ]= nonzero\n",
    "        nums[len(nonzero):] = [0]*(len(nums) - len(nonzero))\n",
    "        return nums "
   ]
  },
  {
   "cell_type": "code",
   "execution_count": 123,
   "metadata": {},
   "outputs": [],
   "source": [
    "\"\"\"tricky two pointer solution\"\"\"\n",
    "def moveZeroes( nums: list) -> None:\n",
    "    zero = 0 \n",
    "    for i in range( 0, len(nums )):\n",
    "        print(zero, i, nums)\n",
    "        if nums[i] !=0: \n",
    "            nums[i], nums[zero] = nums[zero], nums[i]\n",
    "            zero +=1"
   ]
  },
  {
   "cell_type": "code",
   "execution_count": 127,
   "metadata": {},
   "outputs": [
    {
     "name": "stdout",
     "output_type": "stream",
     "text": [
      "[0, 1, 0]\n",
      "[1, 0, 0]\n",
      "[0, 0, 0]\n"
     ]
    },
    {
     "data": {
      "text/plain": [
       "[0, 0, 0]"
      ]
     },
     "execution_count": 127,
     "metadata": {},
     "output_type": "execute_result"
    }
   ],
   "source": [
    "\"\"\" wrong solution pop and append solution\n",
    "it's wrong because it went to deep and removed the correct value 1, \n",
    "we need to find a way to exclude the 0 appended to the list, using while look\n",
    "also when we modify in place using pop, the index itself change as well,\n",
    "so we need to add if condition and increment i only when nums[i]!= 0\"\"\"\n",
    "nums = [0, 1, 0]\n",
    "for i in range(0, len(nums)): \n",
    "    print(nums)\n",
    "    if nums[i] ==0:\n",
    "        nums.pop(0)\n",
    "        nums.append(0)\n",
    "nums"
   ]
  },
  {
   "cell_type": "markdown",
   "metadata": {},
   "source": [
    "# Minimum moves to equal array elements \n",
    "- leetcode 453\n",
    "- https://leetcode.com/problems/minimum-moves-to-equal-array-elements/ \n",
    "- Given a non-empty integer array of size n, find the minimum number of moves required to make all array elements equal, where a move is incrementing n - 1 elements by 1. "
   ]
  },
  {
   "cell_type": "code",
   "execution_count": 142,
   "metadata": {},
   "outputs": [
    {
     "data": {
      "text/plain": [
       "4"
      ]
     },
     "execution_count": 142,
     "metadata": {},
     "output_type": "execute_result"
    }
   ],
   "source": [
    "\"\"\"slow iterative solution\"\"\"\n",
    "class Solution(object):\n",
    "    def minMoves(self, nums):\n",
    "        steps = 0 \n",
    "        while len(set(nums))!=1:\n",
    "            nums.sort()\n",
    "            minn, maxn = min(nums), max(nums)\n",
    "            nums[:len(nums)-1]  = [x+ maxn-minn for x in nums[:len(nums)-1] ]\n",
    "            steps += (maxn-minn)\n",
    "        return steps"
   ]
  },
  {
   "cell_type": "code",
   "execution_count": 148,
   "metadata": {},
   "outputs": [],
   "source": [
    "\"\"\"mathematical solution\"\"\"\n",
    "\"\"\"say N is the size of the input, x is the number of moves you need\n",
    "after x moves, all values becomes min +x \n",
    "so the sum of your array becomes N *(min + x)\n",
    "which is also equal to sum + x * (N-1)\n",
    "x = sum - N*min\"\"\"\n",
    "def minMoves(self, nums):\n",
    "    return sum(nums) - len(nums) * min(nums)"
   ]
  },
  {
   "cell_type": "markdown",
   "metadata": {},
   "source": [
    "# Best time to buy and sell stock II\n",
    "Say you have an array prices for which the ith element is the price of a given stock on day i.\n",
    "\n",
    "Design an algorithm to find the maximum profit. You may complete as many transactions as you like (i.e., buy one and sell one share of the stock multiple times).\n",
    "\n",
    "Note: You may not engage in multiple transactions at the same time (i.e., you must sell the stock before you buy again).\n",
    "- leetcode 122\n",
    "- https://leetcode.com/problems/best-time-to-buy-and-sell-stock-ii/"
   ]
  },
  {
   "cell_type": "code",
   "execution_count": 152,
   "metadata": {},
   "outputs": [
    {
     "name": "stdout",
     "output_type": "stream",
     "text": [
      "1 5 0\n",
      "3 4 4\n",
      "4 6 5\n"
     ]
    },
    {
     "data": {
      "text/plain": [
       "7"
      ]
     },
     "execution_count": 152,
     "metadata": {},
     "output_type": "execute_result"
    }
   ],
   "source": [
    "\"\"\"this solution takes advantage of the fact that prices changes continuously, \n",
    "you dont have to find the min point to buy and max point to sell, \n",
    "as long as you record the incremental profit made along the way \n",
    "it will derive the max profit in the end\"\"\"\n",
    "\n",
    "class Solution(object):\n",
    "    def maxProfit(self, prices):\n",
    "        rst= 0\n",
    "        for i in range(0, len(prices)-1): \n",
    "            \n",
    "            if prices[i+1] > prices[i]: \n",
    "                rst += prices[i+1] - prices[i]\n",
    "        return rst\n"
   ]
  },
  {
   "cell_type": "markdown",
   "metadata": {},
   "source": [
    "# K diff pairs in an array\n",
    "Given an array of integers and an integer k, you need to find the number of unique k-diff pairs in the array. Here a k-diff pair is defined as an integer pair (i, j), where i and j are both numbers in the array and their absolute difference is k.\n",
    "- https://leetcode.com/problems/k-diff-pairs-in-an-array/ \n",
    "- leetcoode532"
   ]
  },
  {
   "cell_type": "code",
   "execution_count": 170,
   "metadata": {},
   "outputs": [
    {
     "data": {
      "text/plain": [
       "2"
      ]
     },
     "execution_count": 170,
     "metadata": {},
     "output_type": "execute_result"
    }
   ],
   "source": [
    "\"\"\"my iterative way\"\"\"\n",
    "class Solution(object):\n",
    "    def findPairs(self, nums, k):\n",
    "        if k <0:\n",
    "            return 0 \n",
    "        pairs = 0 \n",
    "        if k!=0: \n",
    "            for i in set(nums):\n",
    "                if i +k in nums:\n",
    "                    pairs+=1 \n",
    "            return pairs\n",
    "        else: \n",
    "            dic = Counter(nums)\n",
    "            return len([k for k in dic.keys() if dic[k]>1])"
   ]
  },
  {
   "cell_type": "code",
   "execution_count": 173,
   "metadata": {},
   "outputs": [
    {
     "data": {
      "text/plain": [
       "{1}"
      ]
     },
     "execution_count": 173,
     "metadata": {},
     "output_type": "execute_result"
    }
   ],
   "source": [
    "\"\"\"fast and sweet\"\"\"\n",
    "def findPairs(self, nums, k):\n",
    "    if k>0:\n",
    "        \"\"\"this statement checks if n+k is in nums \"\"\"\n",
    "        return len(set(nums)&set(n+k for n in nums))\n",
    "    elif k==0:\n",
    "        sum(v>1 for v in collections.Counter(nums).values())\n",
    "    else:\n",
    "        return 0"
   ]
  },
  {
   "cell_type": "code",
   "execution_count": null,
   "metadata": {},
   "outputs": [],
   "source": [
    "nums = [3,1,4,1,5]\n",
    "k = 2 \n",
    "nums.sort()\n",
    "l, r = 0 ,len(nums)-1\n",
    "while r> l : \n",
    "    diff = nums[r] - nums[l]\n",
    "    if diff "
   ]
  },
  {
   "cell_type": "markdown",
   "metadata": {},
   "source": [
    "# Meeting Rooms\n",
    "leetcode 252\n",
    "- Given an array of meeting time intervals consisting of start and end times [[s1,e1],[s2,e2],...] (si < ei), determine if a person could attend all meetings\n",
    "https://leetcode.com/problems/meeting-rooms/"
   ]
  },
  {
   "cell_type": "code",
   "execution_count": 10,
   "metadata": {},
   "outputs": [],
   "source": [
    "intervals = [[0,30],[5,10],[15,20]]\n",
    "\"\"\"for this problem we look at the meeting end time for each of,\n",
    "loop through meetings in the intervals\n",
    "see if the end time of each meeting is larger than the start meeting of the rest of the meetings\"\"\"\n",
    "def canAttendMeetings(self, intervals):\n",
    "\n",
    "    intervals = sorted(intervals, key = lambda x : x[0])\n",
    "    for i in range(0,len(intervals) -1): \n",
    "        if intervals[i][-1] > min([intervals[x][0] for x in range(i+1, len(intervals))]):\n",
    "            return False\n",
    "    return True"
   ]
  },
  {
   "cell_type": "markdown",
   "metadata": {},
   "source": [
    "# High Five\n",
    "https://leetcode.com/problems/high-five/ \n",
    "leetcode 1086"
   ]
  },
  {
   "cell_type": "code",
   "execution_count": 15,
   "metadata": {},
   "outputs": [
    {
     "data": {
      "text/plain": [
       "[[1, 87], [2, 88]]"
      ]
     },
     "execution_count": 15,
     "metadata": {},
     "output_type": "execute_result"
    }
   ],
   "source": [
    "class Solution(object):\n",
    "    def pivotIndex(self, nums):\n",
    "        for i in range(0, len(nums)):\n",
    "            if sum(nums[:i]) == sum(nums[i+1:]):\n",
    "                return i \n",
    "        return -1 "
   ]
  },
  {
   "cell_type": "markdown",
   "metadata": {},
   "source": [
    "# Island Perimeter"
   ]
  },
  {
   "cell_type": "code",
   "execution_count": 126,
   "metadata": {},
   "outputs": [],
   "source": [
    "def islandPerimeter( grid):\n",
    "    if not grid:\n",
    "        return 0\n",
    "\n",
    "    def sum_adjacent(i, j):\n",
    "        adjacent = (i + 1, j), (i - 1, j), (i, j + 1), (i, j - 1),\n",
    "        res = 0\n",
    "        for x, y in adjacent:\n",
    "            if x < 0 or y < 0 or x == len(grid) or y == len(grid[0]) or grid[x][y] == 0:\n",
    "                res += 1\n",
    "        return res\n",
    "\n",
    "    count = 0\n",
    "    for i in range(len(grid)):\n",
    "        for j in range(len(grid[0])):\n",
    "            if grid[i][j] == 1:\n",
    "                count += sum_adjacent(i, j)\n",
    "    return count"
   ]
  },
  {
   "cell_type": "code",
   "execution_count": 127,
   "metadata": {},
   "outputs": [
    {
     "data": {
      "text/plain": [
       "4"
      ]
     },
     "execution_count": 127,
     "metadata": {},
     "output_type": "execute_result"
    }
   ],
   "source": [
    "islandPerimeter( [[1,0]])"
   ]
  },
  {
   "cell_type": "code",
   "execution_count": 133,
   "metadata": {},
   "outputs": [
    {
     "data": {
      "text/plain": [
       "2"
      ]
     },
     "execution_count": 133,
     "metadata": {},
     "output_type": "execute_result"
    }
   ],
   "source": [
    "class Solution:\n",
    "    def islandPerimeter(self, grid):\n",
    "        if not grid:\n",
    "            return 0\n",
    "\n",
    "        N = len(grid)\n",
    "        M = len(grid[0])\n",
    "        ans = 0\n",
    "        for i in range(N):\n",
    "            for j in range(M):\n",
    "                for k in [(-1, 0), (0, 1), (1, 0), (0, -1)]:\n",
    "                    if i+k[0] < 0 or i + k[0] >= N or j+k[1] < 0 or j+k[1] >= M or grid[i+k[0]][j+k[1]] == 0:\n",
    "                        ans += 1\n",
    "        return ans"
   ]
  },
  {
   "cell_type": "markdown",
   "metadata": {},
   "source": [
    "# Shortest unsorted continuous subarray\n",
    "- Given an integer array, you need to find one continuous subarray that if you only sort this subarray in ascending order, then the whole array will be sorted in ascending order, too.\n",
    "\n",
    "You need to find the shortest such subarray and output its length. \n",
    "https://leetcode.com/problems/shortest-unsorted-continuous-subarray/"
   ]
  },
  {
   "cell_type": "code",
   "execution_count": 158,
   "metadata": {},
   "outputs": [
    {
     "data": {
      "text/plain": [
       "2"
      ]
     },
     "execution_count": 158,
     "metadata": {},
     "output_type": "execute_result"
    }
   ],
   "source": [
    "\"\"\"sorted solution\"\"\"\n",
    "class Solution(object):\n",
    "    def findUnsortedSubarray(self, nums):\n",
    "        res = [i for (i, (a, b)) in enumerate(zip(nums, sorted(nums))) if a != b]\n",
    "        return 0 if not res else res[-1] - res[0] + 1"
   ]
  },
  {
   "cell_type": "code",
   "execution_count": 163,
   "metadata": {
    "scrolled": false
   },
   "outputs": [],
   "source": [
    "class Solution(object):\n",
    "    def findUnsortedSubarray(self, nums):\n",
    "        lst = [i for i in range(0, len(nums)) if nums[i] != sorted(nums)[i]]\n",
    "        if not lst:\n",
    "            return 0 \n",
    "        return lst[-1] - lst[0]"
   ]
  },
  {
   "cell_type": "code",
   "execution_count": 147,
   "metadata": {},
   "outputs": [
    {
     "data": {
      "text/plain": [
       "5"
      ]
     },
     "execution_count": 147,
     "metadata": {},
     "output_type": "execute_result"
    }
   ],
   "source": [
    "class Solution(object):\n",
    "    def findUnsortedSubarray(self, nums):\n",
    "        if len(nums) <2:\n",
    "            return 0\n",
    "        \n",
    "        prev = nums[0]\n",
    "        end = 0\n",
    "\t\t# find the largest index not in place\n",
    "        for i in range(0, len(nums)):\n",
    "            if nums[i] < prev:\n",
    "                end = i\n",
    "            else:\n",
    "                prev = nums[i]\n",
    "\n",
    "        start = len(nums) - 1\n",
    "        prev = nums[start]\n",
    "\t\t# find the smallest index not in place\n",
    "        for i in range(len(nums)-1, -1, -1):\n",
    "            if prev < nums[i]:\n",
    "                start = i\n",
    "            else:\n",
    "                prev = nums[i]\n",
    "        if end != 0:\n",
    "            return end - start + 1\n",
    "        else: \n",
    "            return 0 "
   ]
  },
  {
   "cell_type": "markdown",
   "metadata": {},
   "source": [
    "# 448. Find All Numbers Disappeared in an Array\n",
    "https://leetcode.com/problems/find-all-numbers-disappeared-in-an-array/"
   ]
  },
  {
   "cell_type": "code",
   "execution_count": null,
   "metadata": {},
   "outputs": [],
   "source": [
    "\"\"\"run time exceeded\"\"\"\n",
    "class Solution(object):\n",
    "    def findDisappearedNumbers(self, nums):\n",
    "        if not nums:\n",
    "            return []\n",
    "        return [x for x in range(1, len(nums)+1) if x not in nums]"
   ]
  },
  {
   "cell_type": "code",
   "execution_count": null,
   "metadata": {},
   "outputs": [],
   "source": [
    "\n",
    "class Solution(object):\n",
    "    def findDisappearedNumbers(self, nums):\n",
    "        \"\"\"\n",
    "        :type nums: List[int]\n",
    "        :rtype: List[int]\n",
    "        \"\"\"\n",
    "        # For each number i in nums,\n",
    "        # we mark the number that i points as negative.\n",
    "        # Then we filter the list, get all the indexes\n",
    "        # who points to a positive number\n",
    "        for i in xrange(len(nums)):\n",
    "            index = abs(nums[i]) - 1\n",
    "            nums[index] = - abs(nums[index])\n",
    "\n",
    "        return [i + 1 for i in range(len(nums)) if nums[i] > 0]"
   ]
  },
  {
   "cell_type": "markdown",
   "metadata": {},
   "source": [
    "# Next greater element I\n",
    "https://leetcode.com/problems/next-greater-element-i/"
   ]
  },
  {
   "cell_type": "code",
   "execution_count": 186,
   "metadata": {},
   "outputs": [],
   "source": [
    "\"\"\"my solution\"\"\"\n",
    "class Solution(object):\n",
    "    def nextGreaterElement(self, nums1, nums2):\n",
    "        rst = []\n",
    "        for i in nums1: \n",
    "            if i in nums2:\n",
    "                rest = [x for x in  nums2[nums2.index(i)+1:] if x >i]\n",
    "                if not rest:\n",
    "                    rst.append(-1)\n",
    "                else: \n",
    "                    rst.append(rest[0])\n",
    "\n",
    "            else:\n",
    "                rst.append(-1)\n",
    "        return rst"
   ]
  },
  {
   "cell_type": "code",
   "execution_count": 197,
   "metadata": {},
   "outputs": [
    {
     "name": "stdout",
     "output_type": "stream",
     "text": [
      "{} [6]\n",
      "{} [6, 5]\n",
      "{} [6, 5, 4]\n",
      "{} [6, 5, 4, 3]\n",
      "{} [6, 5, 4, 3, 2]\n",
      "{} [6, 5, 4, 3, 2, 1]\n",
      "{1: 7, 2: 7, 3: 7, 4: 7, 5: 7, 6: 7} [7]\n"
     ]
    },
    {
     "data": {
      "text/plain": [
       "[7, 7, 7, 7, 7]"
      ]
     },
     "execution_count": 197,
     "metadata": {},
     "output_type": "execute_result"
    }
   ],
   "source": [
    "\"\"\"using stack, xx cool solution!!\"\"\"\n",
    "nums1 = [1,3,5,2,4]\n",
    "\n",
    "nums2 = [6,5,4,3,2,1,7]\n",
    "\"\"\"greater is a map which stores the next greater item in nums,\n",
    "the index of greater is the number in nums2, since num1's elemnts are subset of nums2,\n",
    "stack is used to keep track of elements in nums2\"\"\"\n",
    "greater, stack =  { }, [ ]\n",
    "for n in nums2: \n",
    "    \n",
    "    while stack and n> stack[-1]:\n",
    "        greater[stack.pop(-1)] = n\n",
    "    stack.append(n)\n",
    "    print(greater, stack)\n",
    "[greater[n] if n in greater else -1 for n in nums1]"
   ]
  },
  {
   "cell_type": "markdown",
   "metadata": {},
   "source": [
    "# Pascal's triangle\n",
    "https://leetcode.com/problems/pascals-triangle/"
   ]
  },
  {
   "cell_type": "code",
   "execution_count": 213,
   "metadata": {},
   "outputs": [],
   "source": [
    "def generate( n): \n",
    "    if n ==1:\n",
    "        return [[1]]\n",
    "    if n ==2 : \n",
    "        return [[1],[1,1]]\n",
    "    else: \n",
    "        rst = generate(n-1)\n",
    "        \n",
    "        rst.append([1]+[rst[-1][i]+ rst[-1][i+1] for i in range(0,n-2)] + [1])\n",
    "        return rst\n",
    "        "
   ]
  },
  {
   "cell_type": "code",
   "execution_count": 215,
   "metadata": {},
   "outputs": [
    {
     "data": {
      "text/plain": [
       "[[1], [1, 1], [1, 2, 1], [1, 3, 3, 1], [1, 4, 6, 4, 1]]"
      ]
     },
     "execution_count": 215,
     "metadata": {},
     "output_type": "execute_result"
    }
   ],
   "source": [
    "generate(5)"
   ]
  },
  {
   "cell_type": "markdown",
   "metadata": {},
   "source": [
    "# Non-decreasing array\n",
    "https://leetcode.com/problems/non-decreasing-array/"
   ]
  },
  {
   "cell_type": "code",
   "execution_count": 248,
   "metadata": {},
   "outputs": [
    {
     "name": "stdout",
     "output_type": "stream",
     "text": [
      "4 2\n"
     ]
    }
   ],
   "source": [
    "nums = [3,4,2,3]\n",
    "for i in range(0, len(nums)-1):\n",
    "    if nums[i] > nums[i+1]:\n",
    "        print(nums[i], nums[i+1])\n",
    "        nums[i=h]"
   ]
  },
  {
   "cell_type": "code",
   "execution_count": 247,
   "metadata": {},
   "outputs": [
    {
     "data": {
      "text/plain": [
       "[True, False, True]"
      ]
     },
     "execution_count": 247,
     "metadata": {},
     "output_type": "execute_result"
    }
   ],
   "source": [
    "[nums[i] <= nums[i+1] for i in range(0, len(nums)-1)]"
   ]
  },
  {
   "cell_type": "markdown",
   "metadata": {},
   "source": [
    "# check if N and its double exist\n",
    "https://leetcode.com/problems/check-if-n-and-its-double-exist/ \n"
   ]
  },
  {
   "cell_type": "code",
   "execution_count": 1,
   "metadata": {},
   "outputs": [
    {
     "data": {
      "text/plain": [
       "True"
      ]
     },
     "execution_count": 1,
     "metadata": {},
     "output_type": "execute_result"
    }
   ],
   "source": [
    "arr =[-2,0,10,-19,4,6,-8]\n",
    "def check(arr): \n",
    "    if len([x for x in arr if x*2 in arr]) == 0:\n",
    "        return False\n",
    "    return True\n",
    "check(arr)"
   ]
  },
  {
   "cell_type": "code",
   "execution_count": 5,
   "metadata": {},
   "outputs": [],
   "source": [
    "def check(arr):\n",
    "    s = set(arr)\n",
    "    return s.count(0) >1 or any(2*x in s for x in s if x)"
   ]
  },
  {
   "cell_type": "markdown",
   "metadata": {},
   "source": [
    "# Mountain array \n",
    "Given an array of integers arr, return true if and only if it is a valid mountain array.\n",
    "\n",
    "Recall that arr is a mountain array if and only if:\n",
    "\n",
    "arr.length >= 3\n",
    "There exists some i with 0 < i < arr.length - 1 such that:\n",
    "arr[0] < arr[1] < ... < arr[i - 1] < A[i]\n",
    "arr[i] > arr[i + 1] > ... > arr[arr.length - 1]\n",
    "\n",
    "https://leetcode.com/problems/valid-mountain-array/\n"
   ]
  },
  {
   "cell_type": "code",
   "execution_count": 40,
   "metadata": {},
   "outputs": [
    {
     "data": {
      "text/plain": [
       "[2, 1]"
      ]
     },
     "execution_count": 40,
     "metadata": {},
     "output_type": "execute_result"
    }
   ],
   "source": [
    "# my dumb solution\n",
    "\"\"\"find the peak in the array first as the cutoff point, \n",
    "then separate the original array into arr1 and arr2, \n",
    "check if arr1 and arr2 are motonomous increasing/decreasing\"\"\"\n",
    "\n",
    "\n",
    "class Solution(object):\n",
    "    def validMountainArray(self, arr):\n",
    "        try: \n",
    "            cutoff   = [i-1 for i in range(1, len(arr)) if arr[i] < arr[i-1]][0]\n",
    "            arr1 = arr[:cutoff+1]\n",
    "            arr2 = arr[cutoff :]\n",
    "            if len(arr1)<=1 or len(arr2)<=1: \n",
    "                return False\n",
    "            return set([arr1[i] <  arr1[i+1] for i in range(0, len(arr1)-1)] +  [arr2[i] >  arr2[i+1] for i in range(0, len(arr2)-1)] ) == {True}\n",
    "\n",
    "        except: \n",
    "            return Falsea\n"
   ]
  },
  {
   "cell_type": "code",
   "execution_count": 42,
   "metadata": {},
   "outputs": [
    {
     "data": {
      "text/plain": [
       "True"
      ]
     },
     "execution_count": 42,
     "metadata": {},
     "output_type": "execute_result"
    }
   ],
   "source": [
    "\"\"\"smart two pointer solution\n",
    "start from left and right side, check if < or >, then move the pointers to meet in the middle\"\"\"\n",
    "class Solution(object):\n",
    "    def validMountainArray(self, arr):\n",
    "        \n",
    "        l, r = 0, len(arr)-1\n",
    "        while l < r and arr[l] < arr[l+1] :\n",
    "            l +=1 \n",
    "        while r >0 and arr[r] < arr[r-1]: \n",
    "            r -=1\n",
    "        \"\"\" this checks for the motonomous increase and decrease situations\"\"\"\n",
    "        if l ==r and r!= len(arr)-1 and l!= 0 : \n",
    "            return True\n",
    "        return False \n"
   ]
  },
  {
   "cell_type": "markdown",
   "metadata": {},
   "source": [
    "# Minimum absolute difference \n",
    "https://leetcode.com/problems/minimum-absolute-difference/"
   ]
  },
  {
   "cell_type": "code",
   "execution_count": 20,
   "metadata": {},
   "outputs": [
    {
     "data": {
      "text/plain": [
       "[[-14, -10], [19, 23], [23, 27]]"
      ]
     },
     "execution_count": 20,
     "metadata": {},
     "output_type": "execute_result"
    }
   ],
   "source": [
    "#initial solution, runtime exceeded\n",
    "class Solution(object):\n",
    "    def minimumAbsDifference(self, arr):\n",
    "        arr.sort()\n",
    "        mindiff = [abs(arr[i] - arr[i-1]) for i in range(1, len(arr)) ]\n",
    "        idx = []\n",
    "        for i in range(len(mindiff)): \n",
    "            if mindiff[i] == min(mindiff): \n",
    "                idx.append([arr[i],arr[i+1]])\n",
    "\n",
    "        return idx"
   ]
  },
  {
   "cell_type": "code",
   "execution_count": 27,
   "metadata": {},
   "outputs": [
    {
     "data": {
      "text/plain": [
       "[[1, 2], [2, 3], [3, 4]]"
      ]
     },
     "execution_count": 27,
     "metadata": {},
     "output_type": "execute_result"
    }
   ],
   "source": [
    "# iterative zipping solution\n",
    "arr = [4,2,1,3]\n",
    "arr.sort()\n",
    "mn = min( b - a for a ,b  in list(zip( arr, arr[1:])))\n",
    "[[a,b] for a,b in zip(arr, arr[1:]) if b-a == mn]"
   ]
  },
  {
   "cell_type": "code",
   "execution_count": null,
   "metadata": {},
   "outputs": [],
   "source": []
  },
  {
   "cell_type": "code",
   "execution_count": null,
   "metadata": {},
   "outputs": [],
   "source": []
  },
  {
   "cell_type": "code",
   "execution_count": null,
   "metadata": {},
   "outputs": [],
   "source": []
  },
  {
   "cell_type": "markdown",
   "metadata": {},
   "source": [
    "# Medium"
   ]
  },
  {
   "cell_type": "markdown",
   "metadata": {},
   "source": [
    "# Meeting rooms II\n",
    "Given an array of meeting time intervals consisting of start and end times [[s1,e1],[s2,e2],...] (si < ei), find the minimum number of conference rooms required.\n",
    "-https://leetcode.com/problems/meeting-rooms-ii/"
   ]
  },
  {
   "cell_type": "code",
   "execution_count": 50,
   "metadata": {},
   "outputs": [],
   "source": [
    "\"\"\"1. sort the meeting by start time\n",
    "2. loop through the meeting and see if the start time of then next time is larger than the ending time of previous meeting\n",
    "3. if its larger, means we don't need to add a new meeting room, use the meeting room list to record the meeting end time\n",
    "4. sort again\"\"\"\n",
    "\n",
    "\n",
    "intervals = [[0, 30],[5, 10],[15, 20]]\n",
    "def minmeetingroom(intervals):\n",
    "    if not intervals:\n",
    "        return 0\n",
    "    intervals.sort(key=lambda x: x[0])\n",
    "    meeting_room = [intervals[0][1]]\n",
    "    for i in range(1, len(intervals)): \n",
    "        # if the start time of the the next meeting is larger than the last meeting end time,\n",
    "        # we don't need an additional meeting room, \n",
    "        #pop the last meeting room value for meeting end time for the new meeting end time\n",
    "        if i[0] >= meeting_room[-1]: \n",
    "            meeting_room.pop(-1)\n",
    "        meeting_room.append(intervals[i][-1])\n",
    "        # here we rearrange the meeting room list, so the earliest end time is at the end of the list\n",
    "        meeting_room.sort(reverse = True)\n",
    "    return len(meeting_room)"
   ]
  },
  {
   "cell_type": "markdown",
   "metadata": {},
   "source": [
    "# Minimum moves to equal an array II\n",
    "Disney interview question\n"
   ]
  },
  {
   "cell_type": "code",
   "execution_count": null,
   "metadata": {},
   "outputs": [],
   "source": [
    "\"\"\"you can choose from [5,2,1]\n",
    "and the nums = [2,2,3,7] \n",
    "calculate the minimum number of moves you need to make all array number equal, \n",
    "every time you can only change len(nums)-1 items in the nums list\"\"\"\n"
   ]
  },
  {
   "cell_type": "code",
   "execution_count": 81,
   "metadata": {},
   "outputs": [],
   "source": [
    "import numpy as np \n",
    "choices = [5,2,1]\n",
    "def minmoves(nums): \n",
    "    step = 0\n",
    "    while len(set(nums))!= 1: \n",
    "        nums.sort()\n",
    "        minn, maxn = min(nums), max(nums)\n",
    "        #find the number if choices that is the closest to maxn- minn\n",
    "        minmaxdiff = maxn- minn\n",
    "        choco = choices[[abs(x - minmaxdiff) for x in choices].index(min([abs(x - minmaxdiff) for x in choices]))]\n",
    "        print(choco)\n",
    "        nums[:len(nums)-1] = [x + choco for x in nums[:len(nums)-1] ]\n",
    "        print(nums)\n",
    "        step +=1 \n",
    "        \n",
    "    return step"
   ]
  },
  {
   "cell_type": "code",
   "execution_count": 82,
   "metadata": {},
   "outputs": [
    {
     "name": "stdout",
     "output_type": "stream",
     "text": [
      "5\n",
      "[7, 7, 8, 7]\n",
      "1\n",
      "[8, 8, 8, 8]\n"
     ]
    },
    {
     "data": {
      "text/plain": [
       "2"
      ]
     },
     "execution_count": 82,
     "metadata": {},
     "output_type": "execute_result"
    }
   ],
   "source": [
    "minmoves([2,2,3,7])"
   ]
  },
  {
   "cell_type": "markdown",
   "metadata": {},
   "source": []
  },
  {
   "cell_type": "code",
   "execution_count": null,
   "metadata": {},
   "outputs": [],
   "source": []
  }
 ],
 "metadata": {
  "anaconda-cloud": {},
  "kernelspec": {
   "display_name": "Python 3",
   "language": "python",
   "name": "python3"
  },
  "language_info": {
   "codemirror_mode": {
    "name": "ipython",
    "version": 3
   },
   "file_extension": ".py",
   "mimetype": "text/x-python",
   "name": "python",
   "nbconvert_exporter": "python",
   "pygments_lexer": "ipython3",
   "version": "3.8.5"
  }
 },
 "nbformat": 4,
 "nbformat_minor": 2
}
